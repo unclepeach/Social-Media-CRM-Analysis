{
 "cells": [
  {
   "cell_type": "code",
   "execution_count": null,
   "metadata": {
    "scrolled": false
   },
   "outputs": [],
   "source": [
    "###登录脸书###\n",
    "import traceback\n",
    "from selenium import webdriver\n",
    "import time\n",
    "from selenium.webdriver.chrome.options import Options\n",
    "from selenium.webdriver import ActionChains\n",
    "from selenium.webdriver.common.keys import Keys\n",
    "\n",
    "#关闭chrome弹窗通知，页面化时使用\n",
    "prefs = {\n",
    "    'profile.default_content_setting_values' :\n",
    "        {\n",
    "        'notifications' : 2\n",
    "         }\n",
    "}\n",
    "chrome_options = Options()\n",
    "#无可视化界面禁用\n",
    "chrome_options.add_experimental_option('prefs', prefs)\n",
    "chrome_options.add_argument('--no-sandbox') #解决DevToolsActivePort文件不存在的报错\n",
    "chrome_options.add_argument(\"disable-infobars\") # 关闭'chrome正受到自动测试软件的控制'提示\n",
    "chrome_options.add_argument('window-size=1920x3000')  #指定浏览器分辨率\n",
    "chrome_options.add_argument('--disable-gpu')  #谷歌文档提到需要加上这个属性来规避bug\n",
    "chrome_options.add_argument('--hide-scrollbars')  #隐藏滚动条, 应对一些特殊页面\n",
    "chrome_options.add_argument('blink-settings=imagesEnabled=false')  #不加载图片, 提升速度\n",
    "\n",
    "chrome_options.add_argument('--headless')  #浏览器不提供可视化页面. linux下如果系统不支持可视化不加这条会启动失败\n",
    "chrome_options.binary_location = r\"C:\\Program Files (x86)\\Google\\Chrome\\Application\\chrome.exe\" #手动指定本机电脑使用的浏览器位置\n",
    "\n",
    "# 创建driver,进行后面的请求页面等操作，executable_path指定本机中chromedriver.exe的位置\n",
    "driver = webdriver.Chrome(options=chrome_options, executable_path=r\"C:\\Users\\UNclePeach\\AnacondaProjects\\Social Media CRM Analysis\\chromedriver.exe\") \n",
    "# 使用driver去请求页面\n",
    "driver.get(\"https://www.facebook.com/\")\n",
    "\n",
    "# driver去填写用户名和密码进行模拟登陆\n",
    "driver.find_element_by_id('email').send_keys(\"taojing@csu.fullerton.edu\")\n",
    "driver.find_element_by_id('pass').send_keys(\"Lettopia@201906\")\n",
    "# driver自动点击登陆按钮\n",
    "driver.find_element_by_id('loginbutton').click()"
   ]
  },
  {
   "cell_type": "code",
   "execution_count": null,
   "metadata": {},
   "outputs": [],
   "source": [
    "###查询脸书城市代码### 后期自动化任务，数据源：worldcities.csv\n",
    "#driver.get(\"https://www.facebook.com/search/places/?q=Port Denison，Western Australia，Australia\")\n",
    "###在文件worldcities.csv中遍历查询城市facebook id用于marketplace定位\n",
    "###places查询结果中选取city属性模块，继而由url地址获取cityid\n",
    "### https://www.facebook.com/places/Things-to-do-in-Port-Denison-Western-Australia-Australia/111782448850504/\n",
    "\n",
    "city = \"Melbourne, Victoria, Australia\"\n",
    "cityid = \"116190411724975\"\n",
    "query = \"phone repair\"\n",
    "categories = \"phones\"\n",
    "driver.get(\"https://www.facebook.com/marketplace/\"+cityid+\"/search/?query=\" + query+\"&categoryID=\" + categories)\n",
    "\n",
    "#### 设置最长的超时时间\n",
    "driver.set_page_load_timeout(30)\n",
    "\n",
    "#### 向下滚动1分钟获取全部items查询结果\n",
    "items=driver.find_element_by_tag_name('body')\n",
    "timeout = time.time() + 60*1\n",
    "while True:\n",
    "    items.send_keys(Keys.PAGE_DOWN)\n",
    "    if time.time() > timeout:\n",
    "        break"
   ]
  },
  {
   "cell_type": "code",
   "execution_count": null,
   "metadata": {},
   "outputs": [],
   "source": [
    "####导出全部在售item信息,过滤title备发有质量的query\n",
    "import os\n",
    "os.remove(\"href.txt\")\n",
    "ff = open('href.txt','a')\n",
    "##手机屏维修相关title（需进化匹配算法）\n",
    "keywords = ['fix','Fix','replace','Replace','screen','Screen','refurbish','Refurbish','parts','Parts','repair','Repair']\n",
    "\n",
    "A = driver.find_elements_by_tag_name(\"a\")\n",
    "for a in A:\n",
    "    href = a.get_attribute(\"href\")\n",
    "    try:\n",
    "        if \"marketplace/item/\" in href: \n",
    "            title = a.get_attribute(\"title\")\n",
    "            #print(title)\n",
    "            if any(x in title for x in keywords):\n",
    "                #print(title)\n",
    "                ff.write(href)\n",
    "                ff.write('\\n')\n",
    "            \n",
    "    except:\n",
    "        f=open(\"log.txt\",'a')  \n",
    "        traceback.print_exc(file=f)  \n",
    "        f.flush()  \n",
    "        f.close()\n",
    "    continue\n",
    "    \n",
    "ff.close()"
   ]
  },
  {
   "cell_type": "code",
   "execution_count": null,
   "metadata": {},
   "outputs": [],
   "source": [
    "####刷新对象\n",
    "driver.refresh()"
   ]
  },
  {
   "cell_type": "code",
   "execution_count": null,
   "metadata": {},
   "outputs": [],
   "source": [
    "####发送信息并采集数据库信息####\n",
    "import traceback\n",
    "import pandas as pd\n",
    "\n",
    "text_file = open(\"href.txt\", \"r\")\n",
    "df = pd.DataFrame(columns=[ 'seller_id','seller_name','status','item_id','item_name','location','price','url'])\n",
    "df.seller_id.astype('int')\n",
    "df.item_id.astype('int')\n",
    "initial = \"no contact\"\n",
    "\n",
    "lines = text_file.readlines()\n",
    "for line in lines:   \n",
    "    html = driver.get(line)\n",
    "    time.sleep(5)\n",
    "    driver.refresh()\n",
    "    time.sleep(5)\n",
    "    try:\n",
    "        seller = driver.find_element_by_xpath(\"//a[contains(@aria-label,'View seller profile')]\")\n",
    "        seller_id = seller.get_attribute(\"profileid\")\n",
    "        #print(seller_id)\n",
    "        seller_name = seller.get_attribute(\"aria-label\")\n",
    "        seller_name = seller_name[0:seller_name.index(\",\")]\n",
    "        #print(seller_name)\n",
    "        item_id = line.split(\"/\")\n",
    "        item_id = item_id[5]\n",
    "        #print(item_id)\n",
    "        item_name = driver.find_element_by_id(\"marketplace-modal-dialog-title\")\n",
    "        item_name = item_name.get_attribute(\"title\")\n",
    "        #print(item_name)\n",
    "        location = driver.find_element_by_xpath(\"//span[contains(@class,'_7yi')]\")\n",
    "        location = location.text\n",
    "        #print(location)\n",
    "        price = driver.find_element_by_xpath(\"//div[contains(@class,'_5_md')]\")\n",
    "        price = price.text\n",
    "        #print(price)\n",
    "        status = initial\n",
    "        df=df.append(pd.DataFrame({'seller_id':[seller_id],'seller_name':[seller_name],'status':[status],'item_id':[item_id],'item_name':[item_name],'location':[location],'price':[price],'url':[line]}),ignore_index = True)\n",
    "    except:\n",
    "        f=open(\"log.txt\",'a')  \n",
    "        traceback.print_exc(file=f)  \n",
    "        f.flush()  \n",
    "        f.close()\n",
    "    continue\n",
    "\n",
    "#print(df)                                 \n",
    "text_file.close()"
   ]
  },
  {
   "cell_type": "code",
   "execution_count": null,
   "metadata": {},
   "outputs": [],
   "source": [
    "#写入初始数据库\n",
    "df.to_csv('item.csv',index=False)\n",
    "\n",
    "#数据库增补信息\n",
    "#df.to_csv('item.csv', mode='a', index=False, header=False)"
   ]
  },
  {
   "cell_type": "markdown",
   "metadata": {},
   "source": [
    "#### 【注意】收集数据功能此处截止！"
   ]
  },
  {
   "cell_type": "code",
   "execution_count": null,
   "metadata": {},
   "outputs": [],
   "source": [
    "####根据item导出所有sellerid\n",
    "os.remove(\"sellerid.txt\")\n",
    "os.remove(\"log.txt\")\n",
    "f=open(\"log.txt\",'a') \n",
    "ff = open('sellerid.txt','a')\n",
    "text_file = open(\"href.txt\", \"r\")\n",
    "\n",
    "lines = text_file.readlines()\n",
    "for line in lines:   \n",
    "    html = driver.get(line)\n",
    "    aa = driver.find_elements_by_tag_name(\"a\")\n",
    "    for a in aa:\n",
    "        try:\n",
    "            aria_label = a.get_attribute(\"aria-label\")\n",
    "            try:\n",
    "                if \"View seller profile\" in aria_label:\n",
    "                    profileid = a.get_attribute(\"profileid\")\n",
    "                    ff.write(profileid)\n",
    "                    ff.write('\\n')\n",
    "            except:\n",
    "                traceback.print_exc(file=f)  \n",
    "                f.flush()  \n",
    "            continue\n",
    "        except:\n",
    "            traceback.print_exc(file=f)  \n",
    "            f.flush()  \n",
    "            f.close()\n",
    "        continue\n",
    "        \n",
    "ff.close()\n",
    "text_file.close()"
   ]
  },
  {
   "cell_type": "code",
   "execution_count": null,
   "metadata": {},
   "outputs": [],
   "source": [
    "###清理冗余ID获取最终message目标集\n",
    "import codecs\n",
    "line_seen=set()#初始化空的无序集合\n",
    "in_file=codecs.open('sellerid.txt','r',encoding='utf-8')\n",
    "out_file=codecs.open('thread_id.txt','w',encoding='utf-8')\n",
    "lines=in_file.readlines()\n",
    "\n",
    "for line in lines:\n",
    "    if line not in line_seen:\n",
    "        out_file.write(line)\n",
    "        line_seen.add(line)       \n",
    "        \n",
    "in_file.close()\n",
    "out_file.close()"
   ]
  },
  {
   "cell_type": "code",
   "execution_count": null,
   "metadata": {},
   "outputs": [],
   "source": [
    "#完成所有操作，关闭对象\n",
    "driver.close()"
   ]
  },
  {
   "cell_type": "code",
   "execution_count": null,
   "metadata": {},
   "outputs": [],
   "source": [
    "##执行一条代码时间过长 而且还不报错，卡死在那。还要继续执行下面代码，如何操作\n",
    "import time\n",
    "import eventlet#导入eventlet这个模块\n",
    "eventlet.monkey_patch()#必须加这条代码\n",
    "with eventlet.Timeout(2,False):#设置超时时间为2秒\n",
    "    time.sleep(4)\n",
    "    print('没有跳过这条输出')\n",
    "print('跳过了输出')"
   ]
  },
  {
   "cell_type": "code",
   "execution_count": null,
   "metadata": {},
   "outputs": [],
   "source": [
    "driver.get(\"https://www.facebook.com/marketplace/item/2271936442845118/\")\n",
    "driver.find_element_by_xpath(\"//a[contains(@data-hovercard,'ajax')]\")"
   ]
  },
  {
   "cell_type": "code",
   "execution_count": null,
   "metadata": {},
   "outputs": [],
   "source": [
    "f.close()\n",
    "ff.close()"
   ]
  },
  {
   "cell_type": "code",
   "execution_count": null,
   "metadata": {},
   "outputs": [],
   "source": [
    "text_file.close()"
   ]
  },
  {
   "cell_type": "code",
   "execution_count": null,
   "metadata": {},
   "outputs": [],
   "source": []
  }
 ],
 "metadata": {
  "kernelspec": {
   "display_name": "Python 3",
   "language": "python",
   "name": "python3"
  },
  "language_info": {
   "codemirror_mode": {
    "name": "ipython",
    "version": 3
   },
   "file_extension": ".py",
   "mimetype": "text/x-python",
   "name": "python",
   "nbconvert_exporter": "python",
   "pygments_lexer": "ipython3",
   "version": "3.6.8"
  }
 },
 "nbformat": 4,
 "nbformat_minor": 2
}
