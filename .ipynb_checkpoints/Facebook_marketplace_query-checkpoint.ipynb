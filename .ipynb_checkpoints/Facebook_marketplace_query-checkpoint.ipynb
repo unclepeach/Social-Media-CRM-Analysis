{
 "cells": [
  {
   "cell_type": "code",
   "execution_count": null,
   "metadata": {},
   "outputs": [],
   "source": [
    "###登录脸书###\n",
    "import traceback\n",
    "from selenium import webdriver\n",
    "import time\n",
    "from selenium.webdriver.chrome.options import Options\n",
    "from selenium.webdriver import ActionChains\n",
    "from selenium.webdriver.common.keys import Keys\n",
    "\n",
    "#关闭chrome弹窗通知，页面化时使用\n",
    "prefs = {\n",
    "    'profile.default_content_setting_values' :\n",
    "        {\n",
    "        'notifications' : 2\n",
    "         }\n",
    "}\n",
    "chrome_options = Options()\n",
    "#无可视化界面禁用\n",
    "chrome_options.add_experimental_option('prefs', prefs)\n",
    "chrome_options.add_argument('--no-sandbox') #解决DevToolsActivePort文件不存在的报错\n",
    "chrome_options.add_argument(\"disable-infobars\") # 关闭'chrome正受到自动测试软件的控制'提示\n",
    "chrome_options.add_argument('window-size=1920x3000')  #指定浏览器分辨率\n",
    "chrome_options.add_argument('--disable-gpu')  #谷歌文档提到需要加上这个属性来规避bug\n",
    "chrome_options.add_argument('--hide-scrollbars')  #隐藏滚动条, 应对一些特殊页面\n",
    "chrome_options.add_argument('blink-settings=imagesEnabled=false')  #不加载图片, 提升速度\n",
    "\n",
    "chrome_options.add_argument('--headless')  #浏览器不提供可视化页面. linux下如果系统不支持可视化不加这条会启动失败\n",
    "chrome_options.binary_location = r\"C:\\Program Files (x86)\\Google\\Chrome\\Application\\chrome.exe\" #手动指定本机电脑使用的浏览器位置\n",
    "\n",
    "# 创建driver,进行后面的请求页面等操作，executable_path指定本机中chromedriver.exe的位置\n",
    "driver = webdriver.Chrome(options=chrome_options, executable_path=r\"C:\\Users\\UNclePeach\\AnacondaProjects\\Social Media CRM Analysis\\chromedriver.exe\") \n",
    "# 使用driver去请求页面\n",
    "driver.get(\"https://www.facebook.com/\")\n",
    "\n",
    "# driver去填写用户名和密码进行模拟登陆\n",
    "driver.find_element_by_id('email').send_keys(\"taojing@csu.fullerton.edu\")\n",
    "driver.find_element_by_id('pass').send_keys(\"Lettopia@20190806\")\n",
    "# driver自动点击登陆按钮\n",
    "driver.find_element_by_id('loginbutton').click()"
   ]
  },
  {
   "cell_type": "code",
   "execution_count": null,
   "metadata": {},
   "outputs": [],
   "source": [
    "####df读取csv数据库发送marketplace问询信息后更新csv\n",
    "import pandas as pd\n",
    "\n",
    "driver.set_page_load_timeout(30)\n",
    "\n",
    "items = pd.read_csv(\"item.csv\")\n",
    "for i in range(0,len(items)):\n",
    "    if items.iloc[i][\"status\"] == \"no contact\":\n",
    "        driver.get(items.iloc[i][\"url\"])\n",
    "        try:\n",
    "            driver.find_element_by_xpath('//span[contains(text(), \"This Item Isn\\'t Available Anymore\")]')\n",
    "            items.iloc[j,2] = \"item unavailable\"\n",
    "            print(i, \"This Item Isn't Available Anymore!\")\n",
    "        except:\n",
    "            try:\n",
    "                message = driver.find_element_by_xpath(\"//input[@placeholder = 'Send a private message...']\")\n",
    "                message.send_keys(u'\\ue009' + \"a\")\n",
    "                ###针对手机显示屏维修业务发出询问\n",
    "                message.send_keys(\"Hello, I'm interested in your item. Do you repair iPhoneX screen?\")\n",
    "                send = driver.find_element_by_xpath(\"//div[contains(text(), 'Send')]\")\n",
    "                send = send.find_element_by_xpath(\"..//..\")\n",
    "                send = send.find_element_by_xpath(\"..\")\n",
    "                #send.click()\n",
    "                time.sleep(10)\n",
    "                print(i,str(items.iloc[i][\"seller_id\"]) + \"@send\")\n",
    "                #print(i,items.iloc[i][\"url\"])\n",
    "                items.iloc[i,2] = \"sent\"\n",
    "                #print(i,items.iloc[i][\"seller_id\"],items.iloc[i][\"status\"])\n",
    "                for j in range(i+1,len(items)):\n",
    "                    if items.iloc[j][\"seller_id\"] == items.iloc[i][\"seller_id\"]:\n",
    "                #print(j,items.iloc[j][\"seller_id\"],items.iloc[j][\"status\"])\n",
    "                       items.iloc[j,2] = \"already sent\"\n",
    "                #print(j,items.iloc[j,0],items.iloc[j,2])\n",
    "                    else:\n",
    "                        continue\n",
    "                #拉长休眠时间，循环发送消息，一天以30条为max      \n",
    "                #time.sleep(2860)\n",
    "                #driver.refresh()\n",
    "                #time.sleep(10)\n",
    "            except:\n",
    "                f=open(\"log.txt\",'a')  \n",
    "                traceback.print_exc(file=f)  \n",
    "                f.flush()  \n",
    "                f.close()\n",
    "                print(i, str(items.iloc[i][\"seller_id\"]) + \"@error\")\n",
    "            continue"
   ]
  },
  {
   "cell_type": "code",
   "execution_count": null,
   "metadata": {},
   "outputs": [],
   "source": [
    "items.to_csv('item_n.csv',index=False)"
   ]
  },
  {
   "cell_type": "code",
   "execution_count": null,
   "metadata": {},
   "outputs": [],
   "source": [
    "####检查信息发送状态准确性\n",
    "items = pd.read_csv(\"item_n.csv\")\n",
    "for i in range(0,len(items)):\n",
    "    if items.iloc[i][\"status\"] == \"sent\":\n",
    "        driver.get(items.iloc[i][\"url\"])\n",
    "        time.sleep(15)\n",
    "        try:\n",
    "            sent = driver.find_element_by_xpath('//button[contains(text(), \"Message Again\")]')        \n",
    "            print(i,str(items.iloc[i][\"seller_id\"]) + \"@correct\")\n",
    "        except:\n",
    "            f=open(\"log.txt\",'a')  \n",
    "            traceback.print_exc(file=f)  \n",
    "            f.flush()  \n",
    "            f.close()\n",
    "            if items.iloc[i][\"status\"] != \"item unavailable\":\n",
    "                print(i, str(items.iloc[i][\"url\"]) + \"@please check again\")\n",
    "        continue"
   ]
  },
  {
   "cell_type": "code",
   "execution_count": null,
   "metadata": {},
   "outputs": [],
   "source": [
    "driver.quit()"
   ]
  },
  {
   "cell_type": "code",
   "execution_count": null,
   "metadata": {},
   "outputs": [],
   "source": [
    "import pandas as pd\n",
    "items = pd.read_csv(r\"C:\\Users\\UNclePeach\\Downloads\\item.csv\", encoding = \"ISO-8859-1\")"
   ]
  },
  {
   "cell_type": "code",
   "execution_count": null,
   "metadata": {},
   "outputs": [],
   "source": []
  }
 ],
 "metadata": {
  "kernelspec": {
   "display_name": "Python 3",
   "language": "python",
   "name": "python3"
  },
  "language_info": {
   "codemirror_mode": {
    "name": "ipython",
    "version": 3
   },
   "file_extension": ".py",
   "mimetype": "text/x-python",
   "name": "python",
   "nbconvert_exporter": "python",
   "pygments_lexer": "ipython3",
   "version": "3.6.8"
  }
 },
 "nbformat": 4,
 "nbformat_minor": 2
}
