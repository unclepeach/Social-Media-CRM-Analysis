{
 "cells": [
  {
   "cell_type": "code",
   "execution_count": 1,
   "metadata": {},
   "outputs": [],
   "source": [
    "###登录MESSENGER网页版###\n",
    "import traceback\n",
    "from selenium import webdriver\n",
    "import time\n",
    "from selenium.webdriver.chrome.options import Options\n",
    "from selenium.webdriver import ActionChains\n",
    "from selenium.webdriver.common.keys import Keys\n",
    "\n",
    "#关闭chrome弹窗通知，页面化时使用\n",
    "prefs = {\n",
    "    'profile.default_content_setting_values' :\n",
    "        {\n",
    "        'notifications' : 2\n",
    "         }\n",
    "}\n",
    "chrome_options = Options()\n",
    "#无可视化界面禁用\n",
    "chrome_options.add_experimental_option('prefs', prefs)\n",
    "chrome_options.add_argument('--no-sandbox') #解决DevToolsActivePort文件不存在的报错\n",
    "chrome_options.add_argument(\"disable-infobars\") # 关闭'chrome正受到自动测试软件的控制'提示\n",
    "chrome_options.add_argument('window-size=1920x3000')  #指定浏览器分辨率\n",
    "chrome_options.add_argument('--disable-gpu')  #谷歌文档提到需要加上这个属性来规避bug\n",
    "chrome_options.add_argument('--hide-scrollbars')  #隐藏滚动条, 应对一些特殊页面\n",
    "chrome_options.add_argument('blink-settings=imagesEnabled=false')  #不加载图片, 提升速度\n",
    "chrome_options.add_argument('--headless')  #浏览器不提供可视化页面. linux下如果系统不支持可视化不加这条会启动失败\n",
    "chrome_options.binary_location = r\"C:\\Program Files (x86)\\Google\\Chrome\\Application\\chrome.exe\" #手动指定本机电脑使用的浏览器位置\n",
    "\n",
    "# 创建driver,进行后面的请求页面等操作，executable_path指定本机中chromedriver.exe的位置\n",
    "driver = webdriver.Chrome(options=chrome_options, executable_path=r\"C:\\Users\\UNclePeach\\AnacondaProjects\\chromedriver.exe\") \n",
    "# 使用driver去打开初始message页面\n",
    "driver.get(\"https://www.messenger.com/new\")\n",
    "\n",
    "# driver去填写用户名和密码进行模拟登陆\n",
    "driver.find_element_by_id('email').send_keys(\"taojing@csu.fullerton.edu\")\n",
    "driver.find_element_by_id('pass').send_keys(\"Lettopia@20190806\")\n",
    "# driver自动点击登陆按钮\n",
    "driver.find_element_by_id('loginbutton').click()"
   ]
  },
  {
   "cell_type": "code",
   "execution_count": 2,
   "metadata": {},
   "outputs": [],
   "source": [
    "###写入剪贴板###\n",
    "import pyperclip\n",
    "invite = \"Thanks so much for your warm response.\\nActually, my friends and I have a repair store union facebook group. Boost our sales and buy the Phone Parts from Factory together, do you have interests to join the group?\\nhttps://www.facebook.com/groups/phonerepairtalk/\\nI am sorry if you feel disturbed. I appreciate your reply.\"\n",
    "\n",
    "pyperclip.copy(invite)  # now the clipboard content will be string-invite\n",
    "#text = pyperclip.paste()  # text will have the content of clipboard\n",
    "#print(text)"
   ]
  },
  {
   "cell_type": "code",
   "execution_count": 3,
   "metadata": {},
   "outputs": [],
   "source": [
    "####定义执行节奏,务必刷新页面\n",
    "driver.refresh()"
   ]
  },
  {
   "cell_type": "code",
   "execution_count": 4,
   "metadata": {},
   "outputs": [
    {
     "name": "stdout",
     "output_type": "stream",
     "text": [
      "Jane ·  Lanxim Hair Straightening & Curling Iron\n",
      "new sms TBC ...\n",
      "already invited\n",
      "Jane · USB Portable Fan Hands-free Neck Hanging USB Charging Mini Portable Sports Fan\n",
      "new sms TBC ...\n",
      "do not need to invite/refuse\n"
     ]
    }
   ],
   "source": [
    "####待封装__main__针对客户回复推送相关消息\n",
    "sender = \"Jane\" #参数：设置主发件人Last name\n",
    "title = sender + \" · \" #Marketplace message特殊格式\n",
    "####Keywords匹配数据齿抽取规则，二者保持一致\n",
    "keywords = ['USB','Hair','Pet'] #test vendor\n",
    "#keywords = ['fix','Fix','replace','Replace','screen','Screen','refurbish','Refurbish','parts','Parts','repair','Repair']\n",
    "refuse = ['no','not','No','NO','Nope','NOPE','nope','don\\'t','dont','Do not','Don\\'t']\n",
    "responses = []\n",
    "sents = []\n",
    "\n",
    "###新消息监测，待设置轮播任务\n",
    "ul = driver.find_element_by_tag_name(\"ul\")\n",
    "lis = ul.find_elements_by_tag_name(\"li\")\n",
    "for li in lis:\n",
    "    try:\n",
    "        if li.get_attribute(\"aria-live\") == \"polite\":\n",
    "            title = li.find_element_by_xpath('.//div/a/div/div[1]')\n",
    "            title = title.get_attribute(\"data-tooltip-content\")\n",
    "            print(title)\n",
    "            if title in title and any(x in title for x in keywords):\n",
    "                print(\"new sms TBC ...\")\n",
    "                block = li.find_element_by_xpath('.//div[contains(@class, \"_5l-m\")]')\n",
    "                block.click()\n",
    "                time.sleep(10)\n",
    "                windows = driver.find_element_by_xpath('//*[@aria-label = \"Messages\"]')\n",
    "                h5s =  windows.find_elements_by_tag_name(\"h5\")\n",
    "                for h5 in h5s:\n",
    "                    user = h5.text\n",
    "                    if user != sender:\n",
    "                        response = h5.find_element_by_xpath('..//div/div/div/span')\n",
    "                        response = response.text\n",
    "                        responses.append(response)\n",
    "                        #print(responses)\n",
    "                    elif user == sender:\n",
    "                        sent = h5.find_element_by_xpath('..//div/div/div/span')\n",
    "                        sent = sent.text\n",
    "                        sents.append(sent)\n",
    "                #print(sents)\n",
    "                ###Marketplace特殊默认字符 对话框\n",
    "                tarea = driver.find_element_by_xpath('//div[@aria-label = \"Type a message, @name...\"]')\n",
    "                action = ActionChains(driver)\n",
    "                if any (x in responses for x in refuse):\n",
    "                    print(\"do not need to invite/refuse\") \n",
    "                    action.click(tarea).send_keys(\"Thanks!\").send_keys(Keys.ENTER).perform()\n",
    "                elif invite in sents:\n",
    "                    print(\"already invited\")\n",
    "                    action.click(tarea).send_keys(\"Thanks! TTYL!\").send_keys(Keys.ENTER).perform()\n",
    "                else:\n",
    "                    print(\"invite to group\")\n",
    "                    ###BACKSPACE用于去除多余断行符\n",
    "                    #ActionChains(driver).click(tarea).key_down(Keys.CONTROL).key_down(Keys.SHIFT).send_keys(\"v\").key_up(Keys.SHIFT).key_up(Keys.CONTROL).send_keys(Keys.BACKSPACE).send_keys(Keys.ENTER).perform()\n",
    "                    action.click(tarea).key_down(Keys.CONTROL).key_down(Keys.SHIFT).send_keys(\"v\").key_up(Keys.SHIFT).key_up(Keys.CONTROL)\n",
    "                    action.pause(5)\n",
    "                    action.send_keys(Keys.ENTER).perform()\n",
    "    except:\n",
    "        f=open(\"log.txt\",'a')  \n",
    "        traceback.print_exc(file=f)  \n",
    "        f.flush()  \n",
    "        f.close()\n",
    "        continue\n",
    "\n",
    "###恢复初始状态，等待下轮监测\n",
    "driver.find_element_by_xpath('//a[@aria-label = \"New Message\"]').click()"
   ]
  },
  {
   "cell_type": "code",
   "execution_count": 5,
   "metadata": {},
   "outputs": [],
   "source": [
    "driver.close()"
   ]
  },
  {
   "cell_type": "code",
   "execution_count": null,
   "metadata": {},
   "outputs": [],
   "source": []
  }
 ],
 "metadata": {
  "kernelspec": {
   "display_name": "Python 3",
   "language": "python",
   "name": "python3"
  },
  "language_info": {
   "codemirror_mode": {
    "name": "ipython",
    "version": 3
   },
   "file_extension": ".py",
   "mimetype": "text/x-python",
   "name": "python",
   "nbconvert_exporter": "python",
   "pygments_lexer": "ipython3",
   "version": "3.6.8"
  }
 },
 "nbformat": 4,
 "nbformat_minor": 2
}
