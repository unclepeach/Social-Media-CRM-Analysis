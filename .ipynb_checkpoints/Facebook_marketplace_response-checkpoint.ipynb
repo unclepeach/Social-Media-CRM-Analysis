{
 "cells": [
  {
   "cell_type": "markdown",
   "metadata": {},
   "source": [
    "## Selenium控制一打开的google页面\n",
    "#### 1. C:\\Users\\UNclePeach>cd C:\\Program Files (x86)\\Google\\Chrome\\Application\n",
    "#### 2. C:\\Program Files (x86)\\Google\\Chrome\\Application>chrome.exe --remote-debugging-port=9222 --user-data-dir=\"C:\\selenum\\AutomationProfile\""
   ]
  },
  {
   "cell_type": "code",
   "execution_count": 1,
   "metadata": {},
   "outputs": [
    {
     "data": {
      "text/plain": [
       "'Messenger'"
      ]
     },
     "execution_count": 1,
     "metadata": {},
     "output_type": "execute_result"
    }
   ],
   "source": [
    "####获取浏览器对象\n",
    "from selenium import webdriver\n",
    "from selenium.webdriver.chrome.options import Options\n",
    "\n",
    "chrome_options = Options()\n",
    "chrome_options.add_experimental_option(\"debuggerAddress\", \"127.0.0.1:9222\")\n",
    "# driver就是当前浏览器窗口\n",
    "driver = webdriver.Chrome(options=chrome_options)\n",
    "\n",
    "driver.title"
   ]
  },
  {
   "cell_type": "code",
   "execution_count": 20,
   "metadata": {},
   "outputs": [
    {
     "name": "stdout",
     "output_type": "stream",
     "text": [
      "Hello, welcome to join our facebook group!\n",
      "\n"
     ]
    }
   ],
   "source": [
    "####写剪贴板用于设置默认推送消息\n",
    "import os\n",
    "def addToClipBoard(text):\n",
    "    command = 'echo ' + text.strip() + '| clip'\n",
    "    os.system(command)\n",
    "#example\n",
    "invite = \"Hello, welcome to join our facebook group!\"\n",
    "\n",
    "addToClipBoard(invite)\n",
    "####读剪贴板\n",
    "from tkinter import Tk\n",
    "r = Tk()\n",
    "# read the clipboard\n",
    "c = r.clipboard_get()\n",
    "print(c)"
   ]
  },
  {
   "cell_type": "code",
   "execution_count": 5,
   "metadata": {},
   "outputs": [],
   "source": [
    "####定义执行节奏,务必刷新页面\n",
    "driver.refresh()"
   ]
  },
  {
   "cell_type": "code",
   "execution_count": 21,
   "metadata": {},
   "outputs": [
    {
     "name": "stdout",
     "output_type": "stream",
     "text": [
      "Jane · Wazor Hair Dryer 1875W Blow Dryer Negative Ionic Infrared Dryer\n",
      "new sms TBC ...\n",
      "already invited\n"
     ]
    }
   ],
   "source": [
    "####待封装__main__针对客户回复推送相关消息\n",
    "sender = \"Jane\" #参数：设置主发件人Last name\n",
    "title = sender + \" · \" #Marketplace message特殊格式\n",
    "####Keywords匹配数据齿抽取规则，二者保持一致\n",
    "keywords = ['USB','Wazor'] #test vendor\n",
    "#keywords = ['fix','Fix','replace','Replace','screen','Screen','refurbish','Refurbish','parts','Parts','repair','Repair']\n",
    "refuse = ['no','not','No','NO','Nope','NOPE','nope','don\\'t','dont','Do not','Don\\'t']\n",
    "responses = []\n",
    "sents = []\n",
    "\n",
    "import traceback\n",
    "from selenium.webdriver import ActionChains\n",
    "from selenium.webdriver.common.keys import Keys\n",
    "###新消息监测，待设置轮播任务\n",
    "ul = driver.find_element_by_tag_name(\"ul\")\n",
    "lis = ul.find_elements_by_tag_name(\"li\")\n",
    "for li in lis:\n",
    "    try:\n",
    "        if li.get_attribute(\"aria-live\") == \"polite\":\n",
    "            title = li.find_element_by_xpath('.//div/a/div/div[1]')\n",
    "            title = title.get_attribute(\"data-tooltip-content\")\n",
    "            print(title)\n",
    "            if title in title and any(x in title for x in keywords):\n",
    "                print(\"new sms TBC ...\")\n",
    "                li.find_element_by_xpath('.//div[contains(@class, \"_5l-m\")]').click()\n",
    "                windows = driver.find_element_by_xpath('//*[@aria-label = \"Messages\"]')\n",
    "                h5s =  windows.find_elements_by_tag_name(\"h5\")\n",
    "                for h5 in h5s:\n",
    "                    user = h5.text\n",
    "                    if user != sender:\n",
    "                        response = h5.find_element_by_xpath('..//div/div/div/span')\n",
    "                        response = response.text\n",
    "                        responses.append(response)\n",
    "                        #print(responses)\n",
    "                    elif user == sender:\n",
    "                        sent = h5.find_element_by_xpath('..//div/div/div/span')\n",
    "                        sent = sent.text\n",
    "                        sents.append(sent)\n",
    "                ###Marketplace特殊默认字符 对话框\n",
    "                tarea = driver.find_element_by_xpath('//div[@aria-label = \"Type a message, @name...\"]')        \n",
    "                if any (x in responses for x in refuse):\n",
    "                    print(\"do not need to invite\") \n",
    "                    ActionChains(driver).click(tarea).send_keys(\"Thanks!\").send_keys(Keys.ENTER).perform()\n",
    "                elif invite in sent:\n",
    "                    print(\"already invited\")\n",
    "                    ActionChains(driver).click(tarea).send_keys(\"Thanks! TTYL!\").send_keys(Keys.ENTER).perform()\n",
    "                else:\n",
    "                    print(\"invite to group\")\n",
    "                    ###BACKSPACE用于去除断行符\n",
    "                    ActionChains(driver).click(tarea).key_down(Keys.CONTROL).key_down(Keys.SHIFT).send_keys(\"v\").key_up(Keys.SHIFT).key_up(Keys.CONTROL).send_keys(Keys.BACKSPACE).send_keys(Keys.ENTER).perform()\n",
    "    except:\n",
    "        f=open(\"log.txt\",'a')  \n",
    "        traceback.print_exc(file=f)  \n",
    "        f.flush()  \n",
    "        f.close()\n",
    "        continue\n",
    "\n",
    "###恢复初始状态，等待下轮监测\n",
    "driver.find_element_by_xpath('//a[@aria-label = \"New Message\"]').click()"
   ]
  },
  {
   "cell_type": "code",
   "execution_count": null,
   "metadata": {},
   "outputs": [],
   "source": []
  }
 ],
 "metadata": {
  "kernelspec": {
   "display_name": "Python 3",
   "language": "python",
   "name": "python3"
  },
  "language_info": {
   "codemirror_mode": {
    "name": "ipython",
    "version": 3
   },
   "file_extension": ".py",
   "mimetype": "text/x-python",
   "name": "python",
   "nbconvert_exporter": "python",
   "pygments_lexer": "ipython3",
   "version": "3.6.8"
  }
 },
 "nbformat": 4,
 "nbformat_minor": 2
}
