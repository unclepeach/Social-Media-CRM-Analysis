{
 "cells": [
  {
   "cell_type": "markdown",
   "metadata": {},
   "source": [
    "### FB Message发送测试\n",
    "#### https://www.geeksforgeeks.org/send-message-to-fb-friend-using-python/\n",
    "#### https://fbchat.readthedocs.io/en/latest/index.html\n",
    "#### https://fbchat.readthedocs.io/en/latest/examples.html#interacting-with-threads\n",
    "#### Tokens: https://developers.facebook.com/apps/372824883359131/dashboard/"
   ]
  },
  {
   "cell_type": "code",
   "execution_count": 8,
   "metadata": {},
   "outputs": [
    {
     "name": "stdout",
     "output_type": "stream",
     "text": [
      "Hi, Chandrasen Sohatee.\n",
      "Glat to meet you!\n",
      "I am interested in your items posted in marketplace, are they still available?\n",
      "From: Jane 🙋‍♀️\n"
     ]
    }
   ],
   "source": [
    "message_bak = \" Hi, this is Jane from Lettopia, a F2B platform. We work direct with Chinese Phone Parts Factory.\\n\\\n",
    "Recently, we want to expand our market in Australia.\\n\\\n",
    "I was wondering if you have interests in group buying the Phone Parts from us with Chinese Factory Wholesale price and no MOQ.\\n\\\n",
    "[Product details: ESR 360 Full View Premium - Quality; Brand: ZY; Quality: ESR Full view]\\n\\\n",
    "Price list via Latopia:\\n\\\n",
    "    6G $7.3\\n\\\n",
    "    6P $10.5\\n\\\n",
    "    6S $8.5\\n\\\n",
    "    6SP $12.5\\n\\\n",
    "    7G $8.6\\n\\\n",
    "    7P $12.5\\n\\\n",
    "    8G $8.6\\n\\\n",
    "    8P $12.5\\n\\\n",
    "    X Hard OLED $56\\n\\\n",
    "    XS Hard OLED $75\\n\\\n",
    "    XR $53\"\n",
    "\n",
    "message = \"Is it available?\"\n",
    "\n",
    "feedback1 = \"👋Do you also sale iPhone parts, such as lcd digitizer? 😊Thanks.\"\n",
    "\n",
    "feedback2 = \"Do you offer X/XR/XS replacement service?\""
   ]
  },
  {
   "cell_type": "code",
   "execution_count": 8,
   "metadata": {},
   "outputs": [
    {
     "name": "stderr",
     "output_type": "stream",
     "text": [
      "Logging in taojing@csu.fullerton.edu...\n",
      "Attempt #1 failed, retrying\n",
      "Login of taojing@csu.fullerton.edu successful.\n"
     ]
    }
   ],
   "source": [
    "from fbchat import Client\n",
    "from fbchat.models import *\n",
    "client = Client('taojing@csu.fullerton.edu', 'Lettopia@201906')"
   ]
  },
  {
   "cell_type": "code",
   "execution_count": 9,
   "metadata": {
    "scrolled": true
   },
   "outputs": [
    {
     "name": "stdout",
     "output_type": "stream",
     "text": [
      "Own id: 100017406700050\n"
     ]
    },
    {
     "ename": "FBchatException",
     "evalue": "Unknown thread type: MARKETPLACE, with data: {'thread_key': {'thread_fbid': '2564234356922632', 'other_user_id': None}, 'name': 'Jane · Replacement -Screens- COME TO U', 'last_message': {'nodes': [{'snippet': 'front screen?', 'message_sender': {'messaging_actor': {'id': '100022535761365'}}, 'timestamp_precise': '1564711137731', 'commerce_message_type': None, 'extensible_attachment': None, 'sticker': None, 'blob_attachments': []}]}, 'unread_count': 3, 'messages_count': 6, 'image': {'uri': 'https://scontent-lax3-1.xx.fbcdn.net/v/t1.6435-9/67154669_491905144904007_772074896065822720_n.jpg?_nc_cat=101&_nc_oc=AQn3pELcuYvXX0D1fWOF1pxG1aUNrDHC79eolaBuQm8BgGzsybgpzsFvmxQa9nkCP8E&_nc_ht=scontent-lax3-1.xx&oh=514388ea17a30e114b3a9718652dfb35&oe=5DE56E47'}, 'updated_time_precise': '1564711137731', 'mute_until': None, 'is_pin_protected': False, 'is_viewer_subscribed': True, 'thread_queue_enabled': True, 'folder': 'INBOX', 'has_viewer_archived': False, 'is_page_follow_up': False, 'cannot_reply_reason': None, 'ephemeral_ttl_mode': 0, 'customization_info': None, 'thread_admins': [], 'approval_mode': 0, 'joinable_mode': {'mode': '0', 'link': ''}, 'thread_queue_metadata': {'approval_requests': {'nodes': []}}, 'event_reminders': {'nodes': []}, 'montage_thread': None, 'last_read_receipt': {'nodes': [{'timestamp_precise': '1564710127070'}]}, 'related_page_thread': None, 'rtc_call_data': {'call_state': 'NO_ONGOING_CALL', 'server_info_data': '', 'initiator': None}, 'associated_object': None, 'privacy_mode': 1, 'reactions_mute_mode': 'REACTIONS_NOT_MUTED', 'mentions_mute_mode': 'MENTIONS_NOT_MUTED', 'customization_enabled': True, 'thread_type': 'MARKETPLACE', 'participant_add_mode_as_string': 'ADD', 'is_canonical_neo_user': False, 'participants_event_status': [], 'page_comm_item': None, 'all_participants': {'nodes': [{'messaging_actor': {'id': '100017406700050', '__typename': 'User', 'name': 'Jane Tao', 'gender': 'FEMALE', 'url': 'https://www.facebook.com/profile.php?id=100017406700050', 'big_image_src': {'uri': 'https://scontent-lax3-1.xx.fbcdn.net/v/t1.0-1/p50x50/64229429_352725805317640_8244165032905015296_n.jpg?_nc_cat=103&_nc_oc=AQmlMPlvVuASQgQpQNL3Oh3gAR7o2HdpxEMuzvxK-ytiLrmTqXc8daCFBl827d3MIuk&_nc_ht=scontent-lax3-1.xx&oh=cb449da17e6fa9558bfe4fe8804d0a8e&oe=5DA12C76'}, 'short_name': 'Jane', 'username': '', 'is_viewer_friend': False, 'is_messenger_user': True, 'is_verified': False, 'is_message_blocked_by_viewer': False, 'is_viewer_coworker': False, 'is_employee': None}}, {'messaging_actor': {'id': '100022535761365', '__typename': 'User', 'name': 'Aida Caballero', 'gender': 'FEMALE', 'url': 'https://www.facebook.com/costurissima.costurissima.3', 'big_image_src': {'uri': 'https://scontent-lax3-1.xx.fbcdn.net/v/t1.0-1/c409.129.180.180a/s50x50/22448429_100902064004319_550740286594078545_n.jpg?_nc_cat=107&_nc_oc=AQnUA5aSq3QL1NuAWteq32apqGH8itp2B53bjd4IcILg_l3POe7lHW0h6fxuoS-iCy0&_nc_ht=scontent-lax3-1.xx&oh=e3966156e523d003c3c1ff2bee080dc3&oe=5DA66BB4'}, 'short_name': 'Aida', 'username': 'costurissima.costurissima.3', 'is_viewer_friend': False, 'is_messenger_user': True, 'is_verified': False, 'is_message_blocked_by_viewer': False, 'is_viewer_coworker': False, 'is_employee': None}}]}, 'read_receipts': {'nodes': [{'watermark': '1564710127070', 'action': '1564711117380', 'actor': {'id': '100022535761365'}}, {'watermark': '1564710127070', 'action': '1564710127070', 'actor': {'id': '100017406700050'}}]}, 'delivery_receipts': {'nodes': []}}",
     "output_type": "error",
     "traceback": [
      "\u001b[1;31m---------------------------------------------------------------------------\u001b[0m",
      "\u001b[1;31mFBchatException\u001b[0m                           Traceback (most recent call last)",
      "\u001b[1;32m<ipython-input-9-c591c2b2d649>\u001b[0m in \u001b[0;36m<module>\u001b[1;34m\u001b[0m\n\u001b[0;32m      4\u001b[0m \u001b[1;31m#threads = client.fetchThreadList()\u001b[0m\u001b[1;33m\u001b[0m\u001b[1;33m\u001b[0m\u001b[1;33m\u001b[0m\u001b[0m\n\u001b[0;32m      5\u001b[0m \u001b[1;31m# Fetches the next 10 threads\u001b[0m\u001b[1;33m\u001b[0m\u001b[1;33m\u001b[0m\u001b[1;33m\u001b[0m\u001b[0m\n\u001b[1;32m----> 6\u001b[1;33m \u001b[0mthreads\u001b[0m \u001b[1;33m=\u001b[0m \u001b[0mclient\u001b[0m\u001b[1;33m.\u001b[0m\u001b[0mfetchThreadList\u001b[0m\u001b[1;33m(\u001b[0m\u001b[1;33m)\u001b[0m\u001b[1;33m\u001b[0m\u001b[1;33m\u001b[0m\u001b[0m\n\u001b[0m\u001b[0;32m      7\u001b[0m \u001b[1;33m\u001b[0m\u001b[0m\n\u001b[0;32m      8\u001b[0m \u001b[0mprint\u001b[0m\u001b[1;33m(\u001b[0m\u001b[1;34m\"Threads: {}\\n\"\u001b[0m\u001b[1;33m.\u001b[0m\u001b[0mformat\u001b[0m\u001b[1;33m(\u001b[0m\u001b[0mthreads\u001b[0m\u001b[1;33m)\u001b[0m\u001b[1;33m)\u001b[0m\u001b[1;33m\u001b[0m\u001b[1;33m\u001b[0m\u001b[0m\n",
      "\u001b[1;32m~\\Anaconda3\\lib\\site-packages\\fbchat\\_client.py\u001b[0m in \u001b[0;36mfetchThreadList\u001b[1;34m(self, offset, limit, thread_location, before)\u001b[0m\n\u001b[0;32m   1057\u001b[0m             \u001b[1;32melse\u001b[0m\u001b[1;33m:\u001b[0m\u001b[1;33m\u001b[0m\u001b[1;33m\u001b[0m\u001b[0m\n\u001b[0;32m   1058\u001b[0m                 raise FBchatException(\n\u001b[1;32m-> 1059\u001b[1;33m                     \u001b[1;34m\"Unknown thread type: {}, with data: {}\"\u001b[0m\u001b[1;33m.\u001b[0m\u001b[0mformat\u001b[0m\u001b[1;33m(\u001b[0m\u001b[0m_type\u001b[0m\u001b[1;33m,\u001b[0m \u001b[0mnode\u001b[0m\u001b[1;33m)\u001b[0m\u001b[1;33m\u001b[0m\u001b[1;33m\u001b[0m\u001b[0m\n\u001b[0m\u001b[0;32m   1060\u001b[0m                 )\n\u001b[0;32m   1061\u001b[0m         \u001b[1;32mreturn\u001b[0m \u001b[0mrtn\u001b[0m\u001b[1;33m\u001b[0m\u001b[1;33m\u001b[0m\u001b[0m\n",
      "\u001b[1;31mFBchatException\u001b[0m: Unknown thread type: MARKETPLACE, with data: {'thread_key': {'thread_fbid': '2564234356922632', 'other_user_id': None}, 'name': 'Jane · Replacement -Screens- COME TO U', 'last_message': {'nodes': [{'snippet': 'front screen?', 'message_sender': {'messaging_actor': {'id': '100022535761365'}}, 'timestamp_precise': '1564711137731', 'commerce_message_type': None, 'extensible_attachment': None, 'sticker': None, 'blob_attachments': []}]}, 'unread_count': 3, 'messages_count': 6, 'image': {'uri': 'https://scontent-lax3-1.xx.fbcdn.net/v/t1.6435-9/67154669_491905144904007_772074896065822720_n.jpg?_nc_cat=101&_nc_oc=AQn3pELcuYvXX0D1fWOF1pxG1aUNrDHC79eolaBuQm8BgGzsybgpzsFvmxQa9nkCP8E&_nc_ht=scontent-lax3-1.xx&oh=514388ea17a30e114b3a9718652dfb35&oe=5DE56E47'}, 'updated_time_precise': '1564711137731', 'mute_until': None, 'is_pin_protected': False, 'is_viewer_subscribed': True, 'thread_queue_enabled': True, 'folder': 'INBOX', 'has_viewer_archived': False, 'is_page_follow_up': False, 'cannot_reply_reason': None, 'ephemeral_ttl_mode': 0, 'customization_info': None, 'thread_admins': [], 'approval_mode': 0, 'joinable_mode': {'mode': '0', 'link': ''}, 'thread_queue_metadata': {'approval_requests': {'nodes': []}}, 'event_reminders': {'nodes': []}, 'montage_thread': None, 'last_read_receipt': {'nodes': [{'timestamp_precise': '1564710127070'}]}, 'related_page_thread': None, 'rtc_call_data': {'call_state': 'NO_ONGOING_CALL', 'server_info_data': '', 'initiator': None}, 'associated_object': None, 'privacy_mode': 1, 'reactions_mute_mode': 'REACTIONS_NOT_MUTED', 'mentions_mute_mode': 'MENTIONS_NOT_MUTED', 'customization_enabled': True, 'thread_type': 'MARKETPLACE', 'participant_add_mode_as_string': 'ADD', 'is_canonical_neo_user': False, 'participants_event_status': [], 'page_comm_item': None, 'all_participants': {'nodes': [{'messaging_actor': {'id': '100017406700050', '__typename': 'User', 'name': 'Jane Tao', 'gender': 'FEMALE', 'url': 'https://www.facebook.com/profile.php?id=100017406700050', 'big_image_src': {'uri': 'https://scontent-lax3-1.xx.fbcdn.net/v/t1.0-1/p50x50/64229429_352725805317640_8244165032905015296_n.jpg?_nc_cat=103&_nc_oc=AQmlMPlvVuASQgQpQNL3Oh3gAR7o2HdpxEMuzvxK-ytiLrmTqXc8daCFBl827d3MIuk&_nc_ht=scontent-lax3-1.xx&oh=cb449da17e6fa9558bfe4fe8804d0a8e&oe=5DA12C76'}, 'short_name': 'Jane', 'username': '', 'is_viewer_friend': False, 'is_messenger_user': True, 'is_verified': False, 'is_message_blocked_by_viewer': False, 'is_viewer_coworker': False, 'is_employee': None}}, {'messaging_actor': {'id': '100022535761365', '__typename': 'User', 'name': 'Aida Caballero', 'gender': 'FEMALE', 'url': 'https://www.facebook.com/costurissima.costurissima.3', 'big_image_src': {'uri': 'https://scontent-lax3-1.xx.fbcdn.net/v/t1.0-1/c409.129.180.180a/s50x50/22448429_100902064004319_550740286594078545_n.jpg?_nc_cat=107&_nc_oc=AQnUA5aSq3QL1NuAWteq32apqGH8itp2B53bjd4IcILg_l3POe7lHW0h6fxuoS-iCy0&_nc_ht=scontent-lax3-1.xx&oh=e3966156e523d003c3c1ff2bee080dc3&oe=5DA66BB4'}, 'short_name': 'Aida', 'username': 'costurissima.costurissima.3', 'is_viewer_friend': False, 'is_messenger_user': True, 'is_verified': False, 'is_message_blocked_by_viewer': False, 'is_viewer_coworker': False, 'is_employee': None}}]}, 'read_receipts': {'nodes': [{'watermark': '1564710127070', 'action': '1564711117380', 'actor': {'id': '100022535761365'}}, {'watermark': '1564710127070', 'action': '1564710127070', 'actor': {'id': '100017406700050'}}]}, 'delivery_receipts': {'nodes': []}}"
     ]
    }
   ],
   "source": [
    "print('Own id: {}'.format(client.uid))\n",
    "\n",
    "# Fetches a list of the 20 top threads you're currently chatting with\n",
    "#threads = client.fetchThreadList()\n",
    "# Fetches the next 10 threads\n",
    "threads = client.fetchThreadList()\n",
    "\n",
    "print(\"Threads: {}\\n\".format(threads))"
   ]
  },
  {
   "cell_type": "code",
   "execution_count": 9,
   "metadata": {},
   "outputs": [
    {
     "name": "stdout",
     "output_type": "stream",
     "text": [
      "Hi, Chandrasen Sohatee.\n",
      "Glat to meet you!\n",
      "I am interested in your items posted in marketplace, are they still available?\n",
      "From: Jane 🙋‍♀️\n"
     ]
    },
    {
     "ename": "FBchatFacebookError",
     "evalue": "Error #1357007 when sending request: A security check is required to proceed.",
     "output_type": "error",
     "traceback": [
      "\u001b[1;31m---------------------------------------------------------------------------\u001b[0m",
      "\u001b[1;31mFBchatFacebookError\u001b[0m                       Traceback (most recent call last)",
      "\u001b[1;32m<ipython-input-9-f10553ccd6f1>\u001b[0m in \u001b[0;36m<module>\u001b[1;34m\u001b[0m\n\u001b[0;32m      4\u001b[0m \u001b[0mthread_ids\u001b[0m\u001b[1;33m=\u001b[0m\u001b[1;33m[\u001b[0m\u001b[1;34m'100002060290580'\u001b[0m\u001b[1;33m]\u001b[0m\u001b[1;33m\u001b[0m\u001b[1;33m\u001b[0m\u001b[0m\n\u001b[0;32m      5\u001b[0m \u001b[1;32mfor\u001b[0m \u001b[0mthread_id\u001b[0m \u001b[1;32min\u001b[0m \u001b[0mthread_ids\u001b[0m\u001b[1;33m:\u001b[0m\u001b[1;33m\u001b[0m\u001b[1;33m\u001b[0m\u001b[0m\n\u001b[1;32m----> 6\u001b[1;33m     \u001b[0mclient\u001b[0m\u001b[1;33m.\u001b[0m\u001b[0msend\u001b[0m\u001b[1;33m(\u001b[0m\u001b[0mMessage\u001b[0m\u001b[1;33m(\u001b[0m\u001b[0mtext\u001b[0m \u001b[1;33m=\u001b[0m \u001b[0mmessage\u001b[0m\u001b[1;33m)\u001b[0m\u001b[1;33m,\u001b[0m \u001b[0mthread_id\u001b[0m\u001b[1;33m=\u001b[0m\u001b[0mthread_id\u001b[0m\u001b[1;33m,\u001b[0m \u001b[0mthread_type\u001b[0m\u001b[1;33m=\u001b[0m\u001b[0mThreadType\u001b[0m\u001b[1;33m.\u001b[0m\u001b[0mUSER\u001b[0m\u001b[1;33m)\u001b[0m\u001b[1;33m\u001b[0m\u001b[1;33m\u001b[0m\u001b[0m\n\u001b[0m\u001b[0;32m      7\u001b[0m     \u001b[1;31m#client.sendLocalImage(\"chat.png\", message=Message(text = message), thread_id=thread_id, thread_type=ThreadType.USER)\u001b[0m\u001b[1;33m\u001b[0m\u001b[1;33m\u001b[0m\u001b[1;33m\u001b[0m\u001b[0m\n",
      "\u001b[1;32m~\\Anaconda3\\lib\\site-packages\\fbchat\\_client.py\u001b[0m in \u001b[0;36msend\u001b[1;34m(self, message, thread_id, thread_type)\u001b[0m\n\u001b[0;32m   1321\u001b[0m             \u001b[0mmessage\u001b[0m\u001b[1;33m=\u001b[0m\u001b[0mmessage\u001b[0m\u001b[1;33m,\u001b[0m \u001b[0mthread_id\u001b[0m\u001b[1;33m=\u001b[0m\u001b[0mthread_id\u001b[0m\u001b[1;33m,\u001b[0m \u001b[0mthread_type\u001b[0m\u001b[1;33m=\u001b[0m\u001b[0mthread_type\u001b[0m\u001b[1;33m\u001b[0m\u001b[1;33m\u001b[0m\u001b[0m\n\u001b[0;32m   1322\u001b[0m         )\n\u001b[1;32m-> 1323\u001b[1;33m         \u001b[1;32mreturn\u001b[0m \u001b[0mself\u001b[0m\u001b[1;33m.\u001b[0m\u001b[0m_doSendRequest\u001b[0m\u001b[1;33m(\u001b[0m\u001b[0mdata\u001b[0m\u001b[1;33m)\u001b[0m\u001b[1;33m\u001b[0m\u001b[1;33m\u001b[0m\u001b[0m\n\u001b[0m\u001b[0;32m   1324\u001b[0m \u001b[1;33m\u001b[0m\u001b[0m\n\u001b[0;32m   1325\u001b[0m     \u001b[1;32mdef\u001b[0m \u001b[0msendMessage\u001b[0m\u001b[1;33m(\u001b[0m\u001b[0mself\u001b[0m\u001b[1;33m,\u001b[0m \u001b[0mmessage\u001b[0m\u001b[1;33m,\u001b[0m \u001b[0mthread_id\u001b[0m\u001b[1;33m=\u001b[0m\u001b[1;32mNone\u001b[0m\u001b[1;33m,\u001b[0m \u001b[0mthread_type\u001b[0m\u001b[1;33m=\u001b[0m\u001b[0mThreadType\u001b[0m\u001b[1;33m.\u001b[0m\u001b[0mUSER\u001b[0m\u001b[1;33m)\u001b[0m\u001b[1;33m:\u001b[0m\u001b[1;33m\u001b[0m\u001b[1;33m\u001b[0m\u001b[0m\n",
      "\u001b[1;32m~\\Anaconda3\\lib\\site-packages\\fbchat\\_client.py\u001b[0m in \u001b[0;36m_doSendRequest\u001b[1;34m(self, data, get_thread_id)\u001b[0m\n\u001b[0;32m   1280\u001b[0m     \u001b[1;32mdef\u001b[0m \u001b[0m_doSendRequest\u001b[0m\u001b[1;33m(\u001b[0m\u001b[0mself\u001b[0m\u001b[1;33m,\u001b[0m \u001b[0mdata\u001b[0m\u001b[1;33m,\u001b[0m \u001b[0mget_thread_id\u001b[0m\u001b[1;33m=\u001b[0m\u001b[1;32mFalse\u001b[0m\u001b[1;33m)\u001b[0m\u001b[1;33m:\u001b[0m\u001b[1;33m\u001b[0m\u001b[1;33m\u001b[0m\u001b[0m\n\u001b[0;32m   1281\u001b[0m         \u001b[1;34m\"\"\"Sends the data to `SendURL`, and returns the message ID or None on failure\"\"\"\u001b[0m\u001b[1;33m\u001b[0m\u001b[1;33m\u001b[0m\u001b[0m\n\u001b[1;32m-> 1282\u001b[1;33m         \u001b[0mj\u001b[0m \u001b[1;33m=\u001b[0m \u001b[0mself\u001b[0m\u001b[1;33m.\u001b[0m\u001b[0m_post\u001b[0m\u001b[1;33m(\u001b[0m\u001b[0mself\u001b[0m\u001b[1;33m.\u001b[0m\u001b[0m_req_url\u001b[0m\u001b[1;33m.\u001b[0m\u001b[0mSEND\u001b[0m\u001b[1;33m,\u001b[0m \u001b[0mdata\u001b[0m\u001b[1;33m,\u001b[0m \u001b[0mfix_request\u001b[0m\u001b[1;33m=\u001b[0m\u001b[1;32mTrue\u001b[0m\u001b[1;33m,\u001b[0m \u001b[0mas_json\u001b[0m\u001b[1;33m=\u001b[0m\u001b[1;32mTrue\u001b[0m\u001b[1;33m)\u001b[0m\u001b[1;33m\u001b[0m\u001b[1;33m\u001b[0m\u001b[0m\n\u001b[0m\u001b[0;32m   1283\u001b[0m \u001b[1;33m\u001b[0m\u001b[0m\n\u001b[0;32m   1284\u001b[0m         \u001b[1;31m# update JS token if received in response\u001b[0m\u001b[1;33m\u001b[0m\u001b[1;33m\u001b[0m\u001b[1;33m\u001b[0m\u001b[0m\n",
      "\u001b[1;32m~\\Anaconda3\\lib\\site-packages\\fbchat\\_client.py\u001b[0m in \u001b[0;36m_post\u001b[1;34m(self, url, query, fix_request, as_json, as_graphql, error_retries)\u001b[0m\n\u001b[0;32m    180\u001b[0m                     \u001b[0merror_retries\u001b[0m\u001b[1;33m=\u001b[0m\u001b[0merror_retries\u001b[0m \u001b[1;33m-\u001b[0m \u001b[1;36m1\u001b[0m\u001b[1;33m,\u001b[0m\u001b[1;33m\u001b[0m\u001b[1;33m\u001b[0m\u001b[0m\n\u001b[0;32m    181\u001b[0m                 )\n\u001b[1;32m--> 182\u001b[1;33m             \u001b[1;32mraise\u001b[0m \u001b[0me\u001b[0m\u001b[1;33m\u001b[0m\u001b[1;33m\u001b[0m\u001b[0m\n\u001b[0m\u001b[0;32m    183\u001b[0m \u001b[1;33m\u001b[0m\u001b[0m\n\u001b[0;32m    184\u001b[0m     \u001b[1;32mdef\u001b[0m \u001b[0m_cleanGet\u001b[0m\u001b[1;33m(\u001b[0m\u001b[0mself\u001b[0m\u001b[1;33m,\u001b[0m \u001b[0murl\u001b[0m\u001b[1;33m,\u001b[0m \u001b[0mquery\u001b[0m\u001b[1;33m=\u001b[0m\u001b[1;32mNone\u001b[0m\u001b[1;33m,\u001b[0m \u001b[0mallow_redirects\u001b[0m\u001b[1;33m=\u001b[0m\u001b[1;32mTrue\u001b[0m\u001b[1;33m)\u001b[0m\u001b[1;33m:\u001b[0m\u001b[1;33m\u001b[0m\u001b[1;33m\u001b[0m\u001b[0m\n",
      "\u001b[1;32m~\\Anaconda3\\lib\\site-packages\\fbchat\\_client.py\u001b[0m in \u001b[0;36m_post\u001b[1;34m(self, url, query, fix_request, as_json, as_graphql, error_retries)\u001b[0m\n\u001b[0;32m    169\u001b[0m                 \u001b[1;32mreturn\u001b[0m \u001b[0mgraphql_response_to_json\u001b[0m\u001b[1;33m(\u001b[0m\u001b[0mcontent\u001b[0m\u001b[1;33m)\u001b[0m\u001b[1;33m\u001b[0m\u001b[1;33m\u001b[0m\u001b[0m\n\u001b[0;32m    170\u001b[0m             \u001b[1;32melse\u001b[0m\u001b[1;33m:\u001b[0m\u001b[1;33m\u001b[0m\u001b[1;33m\u001b[0m\u001b[0m\n\u001b[1;32m--> 171\u001b[1;33m                 \u001b[1;32mreturn\u001b[0m \u001b[0mcheck_request\u001b[0m\u001b[1;33m(\u001b[0m\u001b[0mr\u001b[0m\u001b[1;33m,\u001b[0m \u001b[0mas_json\u001b[0m\u001b[1;33m=\u001b[0m\u001b[0mas_json\u001b[0m\u001b[1;33m)\u001b[0m\u001b[1;33m\u001b[0m\u001b[1;33m\u001b[0m\u001b[0m\n\u001b[0m\u001b[0;32m    172\u001b[0m         \u001b[1;32mexcept\u001b[0m \u001b[0mFBchatFacebookError\u001b[0m \u001b[1;32mas\u001b[0m \u001b[0me\u001b[0m\u001b[1;33m:\u001b[0m\u001b[1;33m\u001b[0m\u001b[1;33m\u001b[0m\u001b[0m\n\u001b[0;32m    173\u001b[0m             \u001b[1;32mif\u001b[0m \u001b[0merror_retries\u001b[0m \u001b[1;33m>\u001b[0m \u001b[1;36m0\u001b[0m \u001b[1;32mand\u001b[0m \u001b[0mself\u001b[0m\u001b[1;33m.\u001b[0m\u001b[0m_fix_fb_errors\u001b[0m\u001b[1;33m(\u001b[0m\u001b[0me\u001b[0m\u001b[1;33m.\u001b[0m\u001b[0mfb_error_code\u001b[0m\u001b[1;33m)\u001b[0m\u001b[1;33m:\u001b[0m\u001b[1;33m\u001b[0m\u001b[1;33m\u001b[0m\u001b[0m\n",
      "\u001b[1;32m~\\Anaconda3\\lib\\site-packages\\fbchat\\_util.py\u001b[0m in \u001b[0;36mcheck_request\u001b[1;34m(r, as_json)\u001b[0m\n\u001b[0;32m    243\u001b[0m         \u001b[1;32mexcept\u001b[0m \u001b[0mValueError\u001b[0m\u001b[1;33m:\u001b[0m\u001b[1;33m\u001b[0m\u001b[1;33m\u001b[0m\u001b[0m\n\u001b[0;32m    244\u001b[0m             \u001b[1;32mraise\u001b[0m \u001b[0mFBchatFacebookError\u001b[0m\u001b[1;33m(\u001b[0m\u001b[1;34m\"Error while parsing JSON: {!r}\"\u001b[0m\u001b[1;33m.\u001b[0m\u001b[0mformat\u001b[0m\u001b[1;33m(\u001b[0m\u001b[0mcontent\u001b[0m\u001b[1;33m)\u001b[0m\u001b[1;33m)\u001b[0m\u001b[1;33m\u001b[0m\u001b[1;33m\u001b[0m\u001b[0m\n\u001b[1;32m--> 245\u001b[1;33m         \u001b[0mcheck_json\u001b[0m\u001b[1;33m(\u001b[0m\u001b[0mj\u001b[0m\u001b[1;33m)\u001b[0m\u001b[1;33m\u001b[0m\u001b[1;33m\u001b[0m\u001b[0m\n\u001b[0m\u001b[0;32m    246\u001b[0m         \u001b[0mlog\u001b[0m\u001b[1;33m.\u001b[0m\u001b[0mdebug\u001b[0m\u001b[1;33m(\u001b[0m\u001b[0mj\u001b[0m\u001b[1;33m)\u001b[0m\u001b[1;33m\u001b[0m\u001b[1;33m\u001b[0m\u001b[0m\n\u001b[0;32m    247\u001b[0m         \u001b[1;32mreturn\u001b[0m \u001b[0mj\u001b[0m\u001b[1;33m\u001b[0m\u001b[1;33m\u001b[0m\u001b[0m\n",
      "\u001b[1;32m~\\Anaconda3\\lib\\site-packages\\fbchat\\_util.py\u001b[0m in \u001b[0;36mcheck_json\u001b[1;34m(j)\u001b[0m\n\u001b[0;32m    208\u001b[0m                 ),\n\u001b[0;32m    209\u001b[0m                 \u001b[0mfb_error_code\u001b[0m\u001b[1;33m=\u001b[0m\u001b[0mj\u001b[0m\u001b[1;33m[\u001b[0m\u001b[1;34m\"error\"\u001b[0m\u001b[1;33m]\u001b[0m\u001b[1;33m,\u001b[0m\u001b[1;33m\u001b[0m\u001b[1;33m\u001b[0m\u001b[0m\n\u001b[1;32m--> 210\u001b[1;33m                 \u001b[0mfb_error_message\u001b[0m\u001b[1;33m=\u001b[0m\u001b[0mj\u001b[0m\u001b[1;33m[\u001b[0m\u001b[1;34m\"errorDescription\"\u001b[0m\u001b[1;33m]\u001b[0m\u001b[1;33m,\u001b[0m\u001b[1;33m\u001b[0m\u001b[1;33m\u001b[0m\u001b[0m\n\u001b[0m\u001b[0;32m    211\u001b[0m             )\n\u001b[0;32m    212\u001b[0m         \u001b[1;32melif\u001b[0m \u001b[1;34m\"debug_info\"\u001b[0m \u001b[1;32min\u001b[0m \u001b[0mj\u001b[0m\u001b[1;33m[\u001b[0m\u001b[1;34m\"error\"\u001b[0m\u001b[1;33m]\u001b[0m \u001b[1;32mand\u001b[0m \u001b[1;34m\"code\"\u001b[0m \u001b[1;32min\u001b[0m \u001b[0mj\u001b[0m\u001b[1;33m[\u001b[0m\u001b[1;34m\"error\"\u001b[0m\u001b[1;33m]\u001b[0m\u001b[1;33m:\u001b[0m\u001b[1;33m\u001b[0m\u001b[1;33m\u001b[0m\u001b[0m\n",
      "\u001b[1;31mFBchatFacebookError\u001b[0m: Error #1357007 when sending request: A security check is required to proceed."
     ]
    }
   ],
   "source": [
    "#thread_ids=[100009575388721, 100010279771004, 100021940891757, 100030951952389]\n",
    "message = \"Hi, Chandrasen Sohatee.\\nGlat to meet you!\\nI am interested in your items posted in marketplace, are they still available?\\nFrom: Jane 🙋‍♀️\"\n",
    "print(message)\n",
    "thread_ids=['100002060290580']\n",
    "for thread_id in thread_ids:\n",
    "    client.send(Message(text = message), thread_id=thread_id, thread_type=ThreadType.USER)\n",
    "    #client.sendLocalImage(\"chat.png\", message=Message(text = message), thread_id=thread_id, thread_type=ThreadType.USER)"
   ]
  },
  {
   "cell_type": "code",
   "execution_count": 3,
   "metadata": {},
   "outputs": [
    {
     "name": "stdout",
     "output_type": "stream",
     "text": [
      "User's ID: 100004091031436\n"
     ]
    }
   ],
   "source": [
    "users = client.searchForUsers('Miranda Zeng')\n",
    "user = users[0]\n",
    "print(\"User's ID: {}\".format(user.uid))"
   ]
  },
  {
   "cell_type": "code",
   "execution_count": 7,
   "metadata": {},
   "outputs": [
    {
     "name": "stdout",
     "output_type": "stream",
     "text": [
      "Chandrasen Sohatee\n",
      "thread's name: Chandrasen Sohatee\n",
      "thread's type: ThreadType.USER\n",
      "Chandrasen Sohatee\n"
     ]
    }
   ],
   "source": [
    "thread = client.fetchThreadInfo(\"100002060290580\")[\"100002060290580\"]\n",
    "print(format(thread.name))\n",
    "print(\"thread's name: {}\".format(thread.name))\n",
    "print(\"thread's type: {}\".format(thread.type))\n",
    "message = thread.name\n",
    "print(message)"
   ]
  },
  {
   "cell_type": "markdown",
   "metadata": {},
   "source": [
    "### Log Out! "
   ]
  },
  {
   "cell_type": "code",
   "execution_count": 10,
   "metadata": {},
   "outputs": [
    {
     "data": {
      "text/plain": [
       "True"
      ]
     },
     "execution_count": 10,
     "metadata": {},
     "output_type": "execute_result"
    }
   ],
   "source": [
    "client.logout()"
   ]
  },
  {
   "cell_type": "markdown",
   "metadata": {},
   "source": [
    "### 设置message发送任务"
   ]
  },
  {
   "cell_type": "code",
   "execution_count": 1,
   "metadata": {
    "scrolled": true
   },
   "outputs": [
    {
     "name": "stderr",
     "output_type": "stream",
     "text": [
      "Logging in taojing@csu.fullerton.edu...\n",
      "Attempt #1 failed, retrying\n",
      "Login of taojing@csu.fullerton.edu successful.\n"
     ]
    },
    {
     "name": "stdout",
     "output_type": "stream",
     "text": [
      "           sellerid\n",
      "75  100002060290580\n",
      "76  100003662624400\n",
      "77        787043845\n",
      "78  100010138817265\n",
      "79  100000116270575\n",
      "80  100035099564613\n",
      "81        578300640\n",
      "82        622870735\n",
      "83  100035779129021\n",
      "84        562378525\n",
      "85        739597407\n",
      "86        666677217\n",
      "87  100005990563743\n",
      "88        682460538\n",
      "89       1595168819\n",
      "Hi, Chandrasen Sohatee.\n",
      "Glat to meet you!\n",
      "I am interested in your items posted in marketplace, are they still available?\n",
      "From: Jane 🙋‍♀️\n"
     ]
    },
    {
     "ename": "FBchatFacebookError",
     "evalue": "Error #1357007 when sending request: A security check is required to proceed.",
     "output_type": "error",
     "traceback": [
      "\u001b[1;31m---------------------------------------------------------------------------\u001b[0m",
      "\u001b[1;31mFBchatFacebookError\u001b[0m                       Traceback (most recent call last)",
      "\u001b[1;32m<ipython-input-1-f5d5d660b673>\u001b[0m in \u001b[0;36m<module>\u001b[1;34m\u001b[0m\n\u001b[0;32m     77\u001b[0m \u001b[1;33m\u001b[0m\u001b[0m\n\u001b[0;32m     78\u001b[0m \u001b[1;32mwhile\u001b[0m \u001b[1;32mTrue\u001b[0m\u001b[1;33m:\u001b[0m\u001b[1;33m\u001b[0m\u001b[1;33m\u001b[0m\u001b[0m\n\u001b[1;32m---> 79\u001b[1;33m     \u001b[0mschedule\u001b[0m\u001b[1;33m.\u001b[0m\u001b[0mrun_pending\u001b[0m\u001b[1;33m(\u001b[0m\u001b[1;33m)\u001b[0m\u001b[1;33m\u001b[0m\u001b[1;33m\u001b[0m\u001b[0m\n\u001b[0m\u001b[0;32m     80\u001b[0m     \u001b[1;31m#time.sleep(1)\u001b[0m\u001b[1;33m\u001b[0m\u001b[1;33m\u001b[0m\u001b[1;33m\u001b[0m\u001b[0m\n\u001b[0;32m     81\u001b[0m \u001b[1;33m\u001b[0m\u001b[0m\n",
      "\u001b[1;32m~\\Anaconda3\\lib\\site-packages\\schedule\\__init__.py\u001b[0m in \u001b[0;36mrun_pending\u001b[1;34m()\u001b[0m\n\u001b[0;32m    491\u001b[0m     \u001b[1;33m:\u001b[0m\u001b[0mdata\u001b[0m\u001b[1;33m:\u001b[0m\u001b[0;31m`\u001b[0m\u001b[0mdefault\u001b[0m \u001b[0mscheduler\u001b[0m \u001b[0minstance\u001b[0m \u001b[1;33m<\u001b[0m\u001b[0mdefault_scheduler\u001b[0m\u001b[1;33m>\u001b[0m\u001b[0;31m`\u001b[0m\u001b[1;33m.\u001b[0m\u001b[1;33m\u001b[0m\u001b[1;33m\u001b[0m\u001b[0m\n\u001b[0;32m    492\u001b[0m     \"\"\"\n\u001b[1;32m--> 493\u001b[1;33m     \u001b[0mdefault_scheduler\u001b[0m\u001b[1;33m.\u001b[0m\u001b[0mrun_pending\u001b[0m\u001b[1;33m(\u001b[0m\u001b[1;33m)\u001b[0m\u001b[1;33m\u001b[0m\u001b[1;33m\u001b[0m\u001b[0m\n\u001b[0m\u001b[0;32m    494\u001b[0m \u001b[1;33m\u001b[0m\u001b[0m\n\u001b[0;32m    495\u001b[0m \u001b[1;33m\u001b[0m\u001b[0m\n",
      "\u001b[1;32m~\\Anaconda3\\lib\\site-packages\\schedule\\__init__.py\u001b[0m in \u001b[0;36mrun_pending\u001b[1;34m(self)\u001b[0m\n\u001b[0;32m     76\u001b[0m         \u001b[0mrunnable_jobs\u001b[0m \u001b[1;33m=\u001b[0m \u001b[1;33m(\u001b[0m\u001b[0mjob\u001b[0m \u001b[1;32mfor\u001b[0m \u001b[0mjob\u001b[0m \u001b[1;32min\u001b[0m \u001b[0mself\u001b[0m\u001b[1;33m.\u001b[0m\u001b[0mjobs\u001b[0m \u001b[1;32mif\u001b[0m \u001b[0mjob\u001b[0m\u001b[1;33m.\u001b[0m\u001b[0mshould_run\u001b[0m\u001b[1;33m)\u001b[0m\u001b[1;33m\u001b[0m\u001b[1;33m\u001b[0m\u001b[0m\n\u001b[0;32m     77\u001b[0m         \u001b[1;32mfor\u001b[0m \u001b[0mjob\u001b[0m \u001b[1;32min\u001b[0m \u001b[0msorted\u001b[0m\u001b[1;33m(\u001b[0m\u001b[0mrunnable_jobs\u001b[0m\u001b[1;33m)\u001b[0m\u001b[1;33m:\u001b[0m\u001b[1;33m\u001b[0m\u001b[1;33m\u001b[0m\u001b[0m\n\u001b[1;32m---> 78\u001b[1;33m             \u001b[0mself\u001b[0m\u001b[1;33m.\u001b[0m\u001b[0m_run_job\u001b[0m\u001b[1;33m(\u001b[0m\u001b[0mjob\u001b[0m\u001b[1;33m)\u001b[0m\u001b[1;33m\u001b[0m\u001b[1;33m\u001b[0m\u001b[0m\n\u001b[0m\u001b[0;32m     79\u001b[0m \u001b[1;33m\u001b[0m\u001b[0m\n\u001b[0;32m     80\u001b[0m     \u001b[1;32mdef\u001b[0m \u001b[0mrun_all\u001b[0m\u001b[1;33m(\u001b[0m\u001b[0mself\u001b[0m\u001b[1;33m,\u001b[0m \u001b[0mdelay_seconds\u001b[0m\u001b[1;33m=\u001b[0m\u001b[1;36m0\u001b[0m\u001b[1;33m)\u001b[0m\u001b[1;33m:\u001b[0m\u001b[1;33m\u001b[0m\u001b[1;33m\u001b[0m\u001b[0m\n",
      "\u001b[1;32m~\\Anaconda3\\lib\\site-packages\\schedule\\__init__.py\u001b[0m in \u001b[0;36m_run_job\u001b[1;34m(self, job)\u001b[0m\n\u001b[0;32m    129\u001b[0m \u001b[1;33m\u001b[0m\u001b[0m\n\u001b[0;32m    130\u001b[0m     \u001b[1;32mdef\u001b[0m \u001b[0m_run_job\u001b[0m\u001b[1;33m(\u001b[0m\u001b[0mself\u001b[0m\u001b[1;33m,\u001b[0m \u001b[0mjob\u001b[0m\u001b[1;33m)\u001b[0m\u001b[1;33m:\u001b[0m\u001b[1;33m\u001b[0m\u001b[1;33m\u001b[0m\u001b[0m\n\u001b[1;32m--> 131\u001b[1;33m         \u001b[0mret\u001b[0m \u001b[1;33m=\u001b[0m \u001b[0mjob\u001b[0m\u001b[1;33m.\u001b[0m\u001b[0mrun\u001b[0m\u001b[1;33m(\u001b[0m\u001b[1;33m)\u001b[0m\u001b[1;33m\u001b[0m\u001b[1;33m\u001b[0m\u001b[0m\n\u001b[0m\u001b[0;32m    132\u001b[0m         \u001b[1;32mif\u001b[0m \u001b[0misinstance\u001b[0m\u001b[1;33m(\u001b[0m\u001b[0mret\u001b[0m\u001b[1;33m,\u001b[0m \u001b[0mCancelJob\u001b[0m\u001b[1;33m)\u001b[0m \u001b[1;32mor\u001b[0m \u001b[0mret\u001b[0m \u001b[1;32mis\u001b[0m \u001b[0mCancelJob\u001b[0m\u001b[1;33m:\u001b[0m\u001b[1;33m\u001b[0m\u001b[1;33m\u001b[0m\u001b[0m\n\u001b[0;32m    133\u001b[0m             \u001b[0mself\u001b[0m\u001b[1;33m.\u001b[0m\u001b[0mcancel_job\u001b[0m\u001b[1;33m(\u001b[0m\u001b[0mjob\u001b[0m\u001b[1;33m)\u001b[0m\u001b[1;33m\u001b[0m\u001b[1;33m\u001b[0m\u001b[0m\n",
      "\u001b[1;32m~\\Anaconda3\\lib\\site-packages\\schedule\\__init__.py\u001b[0m in \u001b[0;36mrun\u001b[1;34m(self)\u001b[0m\n\u001b[0;32m    409\u001b[0m         \"\"\"\n\u001b[0;32m    410\u001b[0m         \u001b[0mlogger\u001b[0m\u001b[1;33m.\u001b[0m\u001b[0minfo\u001b[0m\u001b[1;33m(\u001b[0m\u001b[1;34m'Running job %s'\u001b[0m\u001b[1;33m,\u001b[0m \u001b[0mself\u001b[0m\u001b[1;33m)\u001b[0m\u001b[1;33m\u001b[0m\u001b[1;33m\u001b[0m\u001b[0m\n\u001b[1;32m--> 411\u001b[1;33m         \u001b[0mret\u001b[0m \u001b[1;33m=\u001b[0m \u001b[0mself\u001b[0m\u001b[1;33m.\u001b[0m\u001b[0mjob_func\u001b[0m\u001b[1;33m(\u001b[0m\u001b[1;33m)\u001b[0m\u001b[1;33m\u001b[0m\u001b[1;33m\u001b[0m\u001b[0m\n\u001b[0m\u001b[0;32m    412\u001b[0m         \u001b[0mself\u001b[0m\u001b[1;33m.\u001b[0m\u001b[0mlast_run\u001b[0m \u001b[1;33m=\u001b[0m \u001b[0mdatetime\u001b[0m\u001b[1;33m.\u001b[0m\u001b[0mdatetime\u001b[0m\u001b[1;33m.\u001b[0m\u001b[0mnow\u001b[0m\u001b[1;33m(\u001b[0m\u001b[1;33m)\u001b[0m\u001b[1;33m\u001b[0m\u001b[1;33m\u001b[0m\u001b[0m\n\u001b[0;32m    413\u001b[0m         \u001b[0mself\u001b[0m\u001b[1;33m.\u001b[0m\u001b[0m_schedule_next_run\u001b[0m\u001b[1;33m(\u001b[0m\u001b[1;33m)\u001b[0m\u001b[1;33m\u001b[0m\u001b[1;33m\u001b[0m\u001b[0m\n",
      "\u001b[1;32m<ipython-input-1-f5d5d660b673>\u001b[0m in \u001b[0;36mjob_that_executes_once\u001b[1;34m()\u001b[0m\n\u001b[0;32m     39\u001b[0m         \u001b[0mmessage\u001b[0m \u001b[1;33m=\u001b[0m \u001b[1;34m\"Hi, {}.\\nGlat to meet you!\\nI am interested in your items posted in marketplace, are they still available?\\nFrom: Jane 🙋‍♀️\"\u001b[0m\u001b[1;33m.\u001b[0m\u001b[0mformat\u001b[0m\u001b[1;33m(\u001b[0m\u001b[0mthread\u001b[0m\u001b[1;33m.\u001b[0m\u001b[0mname\u001b[0m\u001b[1;33m)\u001b[0m\u001b[1;33m\u001b[0m\u001b[1;33m\u001b[0m\u001b[0m\n\u001b[0;32m     40\u001b[0m         \u001b[0mprint\u001b[0m\u001b[1;33m(\u001b[0m\u001b[0mmessage\u001b[0m\u001b[1;33m)\u001b[0m\u001b[1;33m\u001b[0m\u001b[1;33m\u001b[0m\u001b[0m\n\u001b[1;32m---> 41\u001b[1;33m         \u001b[0mclient\u001b[0m\u001b[1;33m.\u001b[0m\u001b[0msend\u001b[0m\u001b[1;33m(\u001b[0m\u001b[0mMessage\u001b[0m\u001b[1;33m(\u001b[0m\u001b[0mtext\u001b[0m \u001b[1;33m=\u001b[0m \u001b[0mmessage\u001b[0m\u001b[1;33m)\u001b[0m\u001b[1;33m,\u001b[0m \u001b[0mthread_id\u001b[0m\u001b[1;33m=\u001b[0m\u001b[0msms_id\u001b[0m\u001b[1;33m,\u001b[0m \u001b[0mthread_type\u001b[0m\u001b[1;33m=\u001b[0m\u001b[0mThreadType\u001b[0m\u001b[1;33m.\u001b[0m\u001b[0mUSER\u001b[0m\u001b[1;33m)\u001b[0m\u001b[1;33m\u001b[0m\u001b[1;33m\u001b[0m\u001b[0m\n\u001b[0m\u001b[0;32m     42\u001b[0m \u001b[1;33m\u001b[0m\u001b[0m\n\u001b[0;32m     43\u001b[0m     \u001b[1;32mreturn\u001b[0m \u001b[0mschedule\u001b[0m\u001b[1;33m.\u001b[0m\u001b[0mCancelJob\u001b[0m\u001b[1;33m\u001b[0m\u001b[1;33m\u001b[0m\u001b[0m\n",
      "\u001b[1;32m~\\Anaconda3\\lib\\site-packages\\fbchat\\_client.py\u001b[0m in \u001b[0;36msend\u001b[1;34m(self, message, thread_id, thread_type)\u001b[0m\n\u001b[0;32m   1321\u001b[0m             \u001b[0mmessage\u001b[0m\u001b[1;33m=\u001b[0m\u001b[0mmessage\u001b[0m\u001b[1;33m,\u001b[0m \u001b[0mthread_id\u001b[0m\u001b[1;33m=\u001b[0m\u001b[0mthread_id\u001b[0m\u001b[1;33m,\u001b[0m \u001b[0mthread_type\u001b[0m\u001b[1;33m=\u001b[0m\u001b[0mthread_type\u001b[0m\u001b[1;33m\u001b[0m\u001b[1;33m\u001b[0m\u001b[0m\n\u001b[0;32m   1322\u001b[0m         )\n\u001b[1;32m-> 1323\u001b[1;33m         \u001b[1;32mreturn\u001b[0m \u001b[0mself\u001b[0m\u001b[1;33m.\u001b[0m\u001b[0m_doSendRequest\u001b[0m\u001b[1;33m(\u001b[0m\u001b[0mdata\u001b[0m\u001b[1;33m)\u001b[0m\u001b[1;33m\u001b[0m\u001b[1;33m\u001b[0m\u001b[0m\n\u001b[0m\u001b[0;32m   1324\u001b[0m \u001b[1;33m\u001b[0m\u001b[0m\n\u001b[0;32m   1325\u001b[0m     \u001b[1;32mdef\u001b[0m \u001b[0msendMessage\u001b[0m\u001b[1;33m(\u001b[0m\u001b[0mself\u001b[0m\u001b[1;33m,\u001b[0m \u001b[0mmessage\u001b[0m\u001b[1;33m,\u001b[0m \u001b[0mthread_id\u001b[0m\u001b[1;33m=\u001b[0m\u001b[1;32mNone\u001b[0m\u001b[1;33m,\u001b[0m \u001b[0mthread_type\u001b[0m\u001b[1;33m=\u001b[0m\u001b[0mThreadType\u001b[0m\u001b[1;33m.\u001b[0m\u001b[0mUSER\u001b[0m\u001b[1;33m)\u001b[0m\u001b[1;33m:\u001b[0m\u001b[1;33m\u001b[0m\u001b[1;33m\u001b[0m\u001b[0m\n",
      "\u001b[1;32m~\\Anaconda3\\lib\\site-packages\\fbchat\\_client.py\u001b[0m in \u001b[0;36m_doSendRequest\u001b[1;34m(self, data, get_thread_id)\u001b[0m\n\u001b[0;32m   1280\u001b[0m     \u001b[1;32mdef\u001b[0m \u001b[0m_doSendRequest\u001b[0m\u001b[1;33m(\u001b[0m\u001b[0mself\u001b[0m\u001b[1;33m,\u001b[0m \u001b[0mdata\u001b[0m\u001b[1;33m,\u001b[0m \u001b[0mget_thread_id\u001b[0m\u001b[1;33m=\u001b[0m\u001b[1;32mFalse\u001b[0m\u001b[1;33m)\u001b[0m\u001b[1;33m:\u001b[0m\u001b[1;33m\u001b[0m\u001b[1;33m\u001b[0m\u001b[0m\n\u001b[0;32m   1281\u001b[0m         \u001b[1;34m\"\"\"Sends the data to `SendURL`, and returns the message ID or None on failure\"\"\"\u001b[0m\u001b[1;33m\u001b[0m\u001b[1;33m\u001b[0m\u001b[0m\n\u001b[1;32m-> 1282\u001b[1;33m         \u001b[0mj\u001b[0m \u001b[1;33m=\u001b[0m \u001b[0mself\u001b[0m\u001b[1;33m.\u001b[0m\u001b[0m_post\u001b[0m\u001b[1;33m(\u001b[0m\u001b[0mself\u001b[0m\u001b[1;33m.\u001b[0m\u001b[0m_req_url\u001b[0m\u001b[1;33m.\u001b[0m\u001b[0mSEND\u001b[0m\u001b[1;33m,\u001b[0m \u001b[0mdata\u001b[0m\u001b[1;33m,\u001b[0m \u001b[0mfix_request\u001b[0m\u001b[1;33m=\u001b[0m\u001b[1;32mTrue\u001b[0m\u001b[1;33m,\u001b[0m \u001b[0mas_json\u001b[0m\u001b[1;33m=\u001b[0m\u001b[1;32mTrue\u001b[0m\u001b[1;33m)\u001b[0m\u001b[1;33m\u001b[0m\u001b[1;33m\u001b[0m\u001b[0m\n\u001b[0m\u001b[0;32m   1283\u001b[0m \u001b[1;33m\u001b[0m\u001b[0m\n\u001b[0;32m   1284\u001b[0m         \u001b[1;31m# update JS token if received in response\u001b[0m\u001b[1;33m\u001b[0m\u001b[1;33m\u001b[0m\u001b[1;33m\u001b[0m\u001b[0m\n",
      "\u001b[1;32m~\\Anaconda3\\lib\\site-packages\\fbchat\\_client.py\u001b[0m in \u001b[0;36m_post\u001b[1;34m(self, url, query, fix_request, as_json, as_graphql, error_retries)\u001b[0m\n\u001b[0;32m    180\u001b[0m                     \u001b[0merror_retries\u001b[0m\u001b[1;33m=\u001b[0m\u001b[0merror_retries\u001b[0m \u001b[1;33m-\u001b[0m \u001b[1;36m1\u001b[0m\u001b[1;33m,\u001b[0m\u001b[1;33m\u001b[0m\u001b[1;33m\u001b[0m\u001b[0m\n\u001b[0;32m    181\u001b[0m                 )\n\u001b[1;32m--> 182\u001b[1;33m             \u001b[1;32mraise\u001b[0m \u001b[0me\u001b[0m\u001b[1;33m\u001b[0m\u001b[1;33m\u001b[0m\u001b[0m\n\u001b[0m\u001b[0;32m    183\u001b[0m \u001b[1;33m\u001b[0m\u001b[0m\n\u001b[0;32m    184\u001b[0m     \u001b[1;32mdef\u001b[0m \u001b[0m_cleanGet\u001b[0m\u001b[1;33m(\u001b[0m\u001b[0mself\u001b[0m\u001b[1;33m,\u001b[0m \u001b[0murl\u001b[0m\u001b[1;33m,\u001b[0m \u001b[0mquery\u001b[0m\u001b[1;33m=\u001b[0m\u001b[1;32mNone\u001b[0m\u001b[1;33m,\u001b[0m \u001b[0mallow_redirects\u001b[0m\u001b[1;33m=\u001b[0m\u001b[1;32mTrue\u001b[0m\u001b[1;33m)\u001b[0m\u001b[1;33m:\u001b[0m\u001b[1;33m\u001b[0m\u001b[1;33m\u001b[0m\u001b[0m\n",
      "\u001b[1;32m~\\Anaconda3\\lib\\site-packages\\fbchat\\_client.py\u001b[0m in \u001b[0;36m_post\u001b[1;34m(self, url, query, fix_request, as_json, as_graphql, error_retries)\u001b[0m\n\u001b[0;32m    169\u001b[0m                 \u001b[1;32mreturn\u001b[0m \u001b[0mgraphql_response_to_json\u001b[0m\u001b[1;33m(\u001b[0m\u001b[0mcontent\u001b[0m\u001b[1;33m)\u001b[0m\u001b[1;33m\u001b[0m\u001b[1;33m\u001b[0m\u001b[0m\n\u001b[0;32m    170\u001b[0m             \u001b[1;32melse\u001b[0m\u001b[1;33m:\u001b[0m\u001b[1;33m\u001b[0m\u001b[1;33m\u001b[0m\u001b[0m\n\u001b[1;32m--> 171\u001b[1;33m                 \u001b[1;32mreturn\u001b[0m \u001b[0mcheck_request\u001b[0m\u001b[1;33m(\u001b[0m\u001b[0mr\u001b[0m\u001b[1;33m,\u001b[0m \u001b[0mas_json\u001b[0m\u001b[1;33m=\u001b[0m\u001b[0mas_json\u001b[0m\u001b[1;33m)\u001b[0m\u001b[1;33m\u001b[0m\u001b[1;33m\u001b[0m\u001b[0m\n\u001b[0m\u001b[0;32m    172\u001b[0m         \u001b[1;32mexcept\u001b[0m \u001b[0mFBchatFacebookError\u001b[0m \u001b[1;32mas\u001b[0m \u001b[0me\u001b[0m\u001b[1;33m:\u001b[0m\u001b[1;33m\u001b[0m\u001b[1;33m\u001b[0m\u001b[0m\n\u001b[0;32m    173\u001b[0m             \u001b[1;32mif\u001b[0m \u001b[0merror_retries\u001b[0m \u001b[1;33m>\u001b[0m \u001b[1;36m0\u001b[0m \u001b[1;32mand\u001b[0m \u001b[0mself\u001b[0m\u001b[1;33m.\u001b[0m\u001b[0m_fix_fb_errors\u001b[0m\u001b[1;33m(\u001b[0m\u001b[0me\u001b[0m\u001b[1;33m.\u001b[0m\u001b[0mfb_error_code\u001b[0m\u001b[1;33m)\u001b[0m\u001b[1;33m:\u001b[0m\u001b[1;33m\u001b[0m\u001b[1;33m\u001b[0m\u001b[0m\n",
      "\u001b[1;32m~\\Anaconda3\\lib\\site-packages\\fbchat\\_util.py\u001b[0m in \u001b[0;36mcheck_request\u001b[1;34m(r, as_json)\u001b[0m\n\u001b[0;32m    243\u001b[0m         \u001b[1;32mexcept\u001b[0m \u001b[0mValueError\u001b[0m\u001b[1;33m:\u001b[0m\u001b[1;33m\u001b[0m\u001b[1;33m\u001b[0m\u001b[0m\n\u001b[0;32m    244\u001b[0m             \u001b[1;32mraise\u001b[0m \u001b[0mFBchatFacebookError\u001b[0m\u001b[1;33m(\u001b[0m\u001b[1;34m\"Error while parsing JSON: {!r}\"\u001b[0m\u001b[1;33m.\u001b[0m\u001b[0mformat\u001b[0m\u001b[1;33m(\u001b[0m\u001b[0mcontent\u001b[0m\u001b[1;33m)\u001b[0m\u001b[1;33m)\u001b[0m\u001b[1;33m\u001b[0m\u001b[1;33m\u001b[0m\u001b[0m\n\u001b[1;32m--> 245\u001b[1;33m         \u001b[0mcheck_json\u001b[0m\u001b[1;33m(\u001b[0m\u001b[0mj\u001b[0m\u001b[1;33m)\u001b[0m\u001b[1;33m\u001b[0m\u001b[1;33m\u001b[0m\u001b[0m\n\u001b[0m\u001b[0;32m    246\u001b[0m         \u001b[0mlog\u001b[0m\u001b[1;33m.\u001b[0m\u001b[0mdebug\u001b[0m\u001b[1;33m(\u001b[0m\u001b[0mj\u001b[0m\u001b[1;33m)\u001b[0m\u001b[1;33m\u001b[0m\u001b[1;33m\u001b[0m\u001b[0m\n\u001b[0;32m    247\u001b[0m         \u001b[1;32mreturn\u001b[0m \u001b[0mj\u001b[0m\u001b[1;33m\u001b[0m\u001b[1;33m\u001b[0m\u001b[0m\n",
      "\u001b[1;32m~\\Anaconda3\\lib\\site-packages\\fbchat\\_util.py\u001b[0m in \u001b[0;36mcheck_json\u001b[1;34m(j)\u001b[0m\n\u001b[0;32m    208\u001b[0m                 ),\n\u001b[0;32m    209\u001b[0m                 \u001b[0mfb_error_code\u001b[0m\u001b[1;33m=\u001b[0m\u001b[0mj\u001b[0m\u001b[1;33m[\u001b[0m\u001b[1;34m\"error\"\u001b[0m\u001b[1;33m]\u001b[0m\u001b[1;33m,\u001b[0m\u001b[1;33m\u001b[0m\u001b[1;33m\u001b[0m\u001b[0m\n\u001b[1;32m--> 210\u001b[1;33m                 \u001b[0mfb_error_message\u001b[0m\u001b[1;33m=\u001b[0m\u001b[0mj\u001b[0m\u001b[1;33m[\u001b[0m\u001b[1;34m\"errorDescription\"\u001b[0m\u001b[1;33m]\u001b[0m\u001b[1;33m,\u001b[0m\u001b[1;33m\u001b[0m\u001b[1;33m\u001b[0m\u001b[0m\n\u001b[0m\u001b[0;32m    211\u001b[0m             )\n\u001b[0;32m    212\u001b[0m         \u001b[1;32melif\u001b[0m \u001b[1;34m\"debug_info\"\u001b[0m \u001b[1;32min\u001b[0m \u001b[0mj\u001b[0m\u001b[1;33m[\u001b[0m\u001b[1;34m\"error\"\u001b[0m\u001b[1;33m]\u001b[0m \u001b[1;32mand\u001b[0m \u001b[1;34m\"code\"\u001b[0m \u001b[1;32min\u001b[0m \u001b[0mj\u001b[0m\u001b[1;33m[\u001b[0m\u001b[1;34m\"error\"\u001b[0m\u001b[1;33m]\u001b[0m\u001b[1;33m:\u001b[0m\u001b[1;33m\u001b[0m\u001b[1;33m\u001b[0m\u001b[0m\n",
      "\u001b[1;31mFBchatFacebookError\u001b[0m: Error #1357007 when sending request: A security check is required to proceed."
     ]
    }
   ],
   "source": [
    "import sys\n",
    "import schedule\n",
    "import time\n",
    "import pandas as pd\n",
    "\n",
    "from fbchat import Client\n",
    "from fbchat.models import *\n",
    "client = Client('taojing@csu.fullerton.edu', 'Lettopia@201905')\n",
    "\n",
    "#设置首次运行初始值\n",
    "#ff = open(\"marks.txt\",\"w\")\n",
    "#ff.write(\"0\")    \n",
    "#ff.close() \n",
    "\n",
    "#仅运行一次任务\n",
    "def job_that_executes_once():\n",
    "    df = pd.read_csv('PortDenison_Western_Australia.txt', header = None, names = [\"sellerid\"])    \n",
    "    \n",
    "    ff = open(\"marks.txt\", \"r\")\n",
    "    initial = ff.read()\n",
    "    ff.close()   \n",
    "    #print(initial)\n",
    "    \n",
    "    bulk = 15 #设置每批次容量\n",
    "    end = int(initial) + int(bulk)\n",
    "    #print(end)   \n",
    "    \n",
    "    df = df[int(initial):end]\n",
    "    print(df)    \n",
    "    \n",
    "    ff = open(\"marks.txt\",\"w\")\n",
    "    ff.write(str(end))    \n",
    "    ff.close()  \n",
    "    \n",
    "    for row in df.itertuples(index=True, name='sellerid'):\n",
    "        sms_id = getattr(row, \"sellerid\")      \n",
    "        #print(sms_id)\n",
    "        thread = client.fetchThreadInfo(str(sms_id))[str(sms_id)]\n",
    "        message = \"Hi, {}.\\nGlat to meet you!\\nI am interested in your items posted in marketplace, are they still available?\\nFrom: Jane 🙋‍♀️\".format(thread.name)\n",
    "        print(message)\n",
    "        client.send(Message(text = message), thread_id=sms_id, thread_type=ThreadType.USER)    \n",
    "        \n",
    "    return schedule.CancelJob\n",
    "\n",
    "#重复运行任务\n",
    "def job():  \n",
    "    df = pd.read_csv('list.txt', header = None, names = [\"sellerid\"])\n",
    "    \n",
    "    ff = open(\"marks.txt\", \"r\")\n",
    "    initial = ff.read()\n",
    "    ff.close()\n",
    "    \n",
    "    print(initial)\n",
    "    bulk = 2 #设置每批次容量\n",
    "    end = int(initial) + int(bulk)\n",
    "    print(end)\n",
    "    \n",
    "    df = df[int(initial):end]\n",
    "    print(df)\n",
    "    \n",
    "    ff = open(\"marks.txt\",\"w\")\n",
    "    ff.write(str(end))    \n",
    "    ff.close()  \n",
    "    \n",
    "    for row in df.itertuples(index=True, name='sellerid'):\n",
    "        sms_id = getattr(row, \"sellerid\")      \n",
    "        print(sms_id)\n",
    "        thread = client.fetchThreadInfo(str(sms_id))[str(sms_id)]\n",
    "        message = \"Hi, {}.\\nGlat to meet you!\\nI am interested in your items posted in marketplace, are they still available?\\nFrom: Jane 🙋‍♀️\".format(thread.name)\n",
    "        print(message)\n",
    "        client.send(Message(text = message), thread_id=sms_id, thread_type=ThreadType.USER)\n",
    "\n",
    "schedule.every().day.at(\"11:45\").do(job_that_executes_once)\n",
    "schedule.every().day.at(\"12:15\").do(job_that_executes_once)\n",
    "#schedule.every().day.at(\"13:30\").do(job)\n",
    "#schedule.every().day.at(\"13:31\").do(job)\n",
    "\n",
    "while True:\n",
    "    schedule.run_pending()\n",
    "    #time.sleep(1)\n",
    "    \n",
    "client.logout()"
   ]
  },
  {
   "cell_type": "code",
   "execution_count": null,
   "metadata": {},
   "outputs": [],
   "source": [
    "thread_id=[]\n",
    "with open('thread_id.txt','r') as f:\n",
    "\tfor line in f:\n",
    "\t\tthread_id.append(list(line.strip('\\n').split(',')))\n",
    "print(len(thread_id))"
   ]
  },
  {
   "cell_type": "code",
   "execution_count": null,
   "metadata": {},
   "outputs": [],
   "source": [
    "import sys\n",
    "thread_id=[]\n",
    "with open('list.txt','r') as f:\n",
    "\tfor line in f:\n",
    "\t\tthread_id.append(list(line.strip('\\n').split(',')))\n",
    "ff = open(\"marks.txt\", \"r\")\n",
    "initial = ff.read()\n",
    "ff.close()\n",
    "print(initial)\n",
    "bulk = 1\n",
    "end = int(initial) + int(bulk)\n",
    "print(thread_id[int(initial):end])\n",
    "ff = open(\"marks.txt\",\"w\")\n",
    "ff.write(str(end))\n",
    "f.close()\n",
    "ff.close()"
   ]
  },
  {
   "cell_type": "code",
   "execution_count": null,
   "metadata": {},
   "outputs": [],
   "source": [
    "from fbchat import Client\n",
    "from fbchat.models import *\n",
    "client = Client('taojing@csu.fullerton.edu', 'Lettopia@201905')\n",
    "\n",
    "sms_id = [100017406700050]\n",
    "#sms_id = [100017406700050,100009575388721, 100010279771004, 100021940891757, 100030951952389]\n",
    "for sms in sms_id:\n",
    "    print(type(sms))\n",
    "    thread = client.fetchThreadInfo(sms)[str(sms)]\n",
    "    message = \"Hi, {}.\\nGlat to meet you!\\nI am interested in your items posted in marketplace, are they still available?\\nFrom: Jane 🙋‍♀️\".format(thread.name)\n",
    "    print(message)\n",
    "    client.send(Message(text = message), thread_id=sms, thread_type=ThreadType.USER)\n",
    "\n",
    "client.logout()"
   ]
  },
  {
   "cell_type": "code",
   "execution_count": null,
   "metadata": {},
   "outputs": [],
   "source": [
    "import pandas as pd\n",
    "df = pd.read_csv('PortDenison_Western_Australia.txt', header = None, names = [\"sellerid\"])\n",
    "#len(df)\n",
    "df.drop_duplicates(subset=None, keep='first', inplace=False)\n",
    "len(df)\n",
    "\n",
    "df[df['sellerid'].isin([相应的值])]"
   ]
  },
  {
   "cell_type": "code",
   "execution_count": null,
   "metadata": {},
   "outputs": [],
   "source": [
    "for row in df.itertuples(index=True, name='sellerid'):\n",
    "    print(getattr(row, \"sellerid\"))"
   ]
  },
  {
   "cell_type": "code",
   "execution_count": null,
   "metadata": {},
   "outputs": [],
   "source": []
  }
 ],
 "metadata": {
  "kernelspec": {
   "display_name": "Python 3",
   "language": "python",
   "name": "python3"
  },
  "language_info": {
   "codemirror_mode": {
    "name": "ipython",
    "version": 3
   },
   "file_extension": ".py",
   "mimetype": "text/x-python",
   "name": "python",
   "nbconvert_exporter": "python",
   "pygments_lexer": "ipython3",
   "version": "3.6.8"
  }
 },
 "nbformat": 4,
 "nbformat_minor": 2
}
