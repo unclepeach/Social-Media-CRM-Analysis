{
 "cells": [
  {
   "cell_type": "markdown",
   "metadata": {},
   "source": [
    "### FB Message发送测试\n",
    "#### https://www.geeksforgeeks.org/send-message-to-fb-friend-using-python/\n",
    "#### https://fbchat.readthedocs.io/en/latest/index.html\n",
    "#### https://fbchat.readthedocs.io/en/latest/examples.html#interacting-with-threads\n",
    "#### Tokens: https://developers.facebook.com/apps/372824883359131/dashboard/"
   ]
  },
  {
   "cell_type": "code",
   "execution_count": null,
   "metadata": {},
   "outputs": [],
   "source": [
    "message_bak = \" Hi, this is Jane from Lettopia, a F2B platform. We work direct with Chinese Phone Parts Factory.\\n\\\n",
    "Recently, we want to expand our market in Australia.\\n\\\n",
    "I was wondering if you have interests in group buying the Phone Parts from us with Chinese Factory Wholesale price and no MOQ.\\n\\\n",
    "[Product details: ESR 360 Full View Premium - Quality; Brand: ZY; Quality: ESR Full view]\\n\\\n",
    "Price list via Latopia:\\n\\\n",
    "    6G $7.3\\n\\\n",
    "    6P $10.5\\n\\\n",
    "    6S $8.5\\n\\\n",
    "    6SP $12.5\\n\\\n",
    "    7G $8.6\\n\\\n",
    "    7P $12.5\\n\\\n",
    "    8G $8.6\\n\\\n",
    "    8P $12.5\\n\\\n",
    "    X Hard OLED $56\\n\\\n",
    "    XS Hard OLED $75\\n\\\n",
    "    XR $53\"\n",
    "\n",
    "message = \"Is it available?\"\n",
    "\n",
    "feedback1 = \"👋Do you also sale iPhone parts, such as lcd digitizer? 😊Thanks.\"\n",
    "\n",
    "feedback2 = \"Do you offer X/XR/XS replacement service?\""
   ]
  },
  {
   "cell_type": "code",
   "execution_count": null,
   "metadata": {},
   "outputs": [],
   "source": [
    "####2019-8-5 弃用该API，容易被报security问题！\n",
    "from fbchat import Client\n",
    "from fbchat.models import *\n",
    "client = Client('xxxxxxx', 'xxxxxxxx')"
   ]
  },
  {
   "cell_type": "code",
   "execution_count": null,
   "metadata": {
    "scrolled": true
   },
   "outputs": [],
   "source": [
    "print('Own id: {}'.format(client.uid))\n",
    "\n",
    "# Fetches a list of the 20 top threads you're currently chatting with\n",
    "#threads = client.fetchThreadList()\n",
    "# Fetches the next 10 threads\n",
    "threads = client.fetchThreadList()\n",
    "\n",
    "print(\"Threads: {}\\n\".format(threads))"
   ]
  },
  {
   "cell_type": "code",
   "execution_count": null,
   "metadata": {},
   "outputs": [],
   "source": [
    "#thread_ids=[100009575388721, 100010279771004, 100021940891757, 100030951952389]\n",
    "message = \"Hi, Chandrasen Sohatee.\\nGlat to meet you!\\nI am interested in your items posted in marketplace, are they still available?\\nFrom: Jane 🙋‍♀️\"\n",
    "print(message)\n",
    "thread_ids=['100002060290580']\n",
    "for thread_id in thread_ids:\n",
    "    client.send(Message(text = message), thread_id=thread_id, thread_type=ThreadType.USER)\n",
    "    #client.sendLocalImage(\"chat.png\", message=Message(text = message), thread_id=thread_id, thread_type=ThreadType.USER)"
   ]
  },
  {
   "cell_type": "code",
   "execution_count": null,
   "metadata": {},
   "outputs": [],
   "source": [
    "users = client.searchForUsers('Miranda Zeng')\n",
    "user = users[0]\n",
    "print(\"User's ID: {}\".format(user.uid))"
   ]
  },
  {
   "cell_type": "code",
   "execution_count": null,
   "metadata": {},
   "outputs": [],
   "source": [
    "thread = client.fetchThreadInfo(\"100002060290580\")[\"100002060290580\"]\n",
    "print(format(thread.name))\n",
    "print(\"thread's name: {}\".format(thread.name))\n",
    "print(\"thread's type: {}\".format(thread.type))\n",
    "message = thread.name\n",
    "print(message)"
   ]
  },
  {
   "cell_type": "markdown",
   "metadata": {},
   "source": [
    "### Log Out! "
   ]
  },
  {
   "cell_type": "code",
   "execution_count": null,
   "metadata": {},
   "outputs": [],
   "source": [
    "client.logout()"
   ]
  },
  {
   "cell_type": "markdown",
   "metadata": {},
   "source": [
    "### 设置message发送任务"
   ]
  },
  {
   "cell_type": "code",
   "execution_count": null,
   "metadata": {
    "scrolled": true
   },
   "outputs": [],
   "source": [
    "import sys\n",
    "import schedule\n",
    "import time\n",
    "import pandas as pd\n",
    "\n",
    "from fbchat import Client\n",
    "from fbchat.models import *\n",
    "client = Client('taojing@csu.fullerton.edu', 'Lettopia@201905')\n",
    "\n",
    "#设置首次运行初始值\n",
    "#ff = open(\"marks.txt\",\"w\")\n",
    "#ff.write(\"0\")    \n",
    "#ff.close() \n",
    "\n",
    "#仅运行一次任务\n",
    "def job_that_executes_once():\n",
    "    df = pd.read_csv('PortDenison_Western_Australia.txt', header = None, names = [\"sellerid\"])    \n",
    "    \n",
    "    ff = open(\"marks.txt\", \"r\")\n",
    "    initial = ff.read()\n",
    "    ff.close()   \n",
    "    #print(initial)\n",
    "    \n",
    "    bulk = 15 #设置每批次容量\n",
    "    end = int(initial) + int(bulk)\n",
    "    #print(end)   \n",
    "    \n",
    "    df = df[int(initial):end]\n",
    "    print(df)    \n",
    "    \n",
    "    ff = open(\"marks.txt\",\"w\")\n",
    "    ff.write(str(end))    \n",
    "    ff.close()  \n",
    "    \n",
    "    for row in df.itertuples(index=True, name='sellerid'):\n",
    "        sms_id = getattr(row, \"sellerid\")      \n",
    "        #print(sms_id)\n",
    "        thread = client.fetchThreadInfo(str(sms_id))[str(sms_id)]\n",
    "        message = \"Hi, {}.\\nGlat to meet you!\\nI am interested in your items posted in marketplace, are they still available?\\nFrom: Jane 🙋‍♀️\".format(thread.name)\n",
    "        print(message)\n",
    "        client.send(Message(text = message), thread_id=sms_id, thread_type=ThreadType.USER)    \n",
    "        \n",
    "    return schedule.CancelJob\n",
    "\n",
    "#重复运行任务\n",
    "def job():  \n",
    "    df = pd.read_csv('list.txt', header = None, names = [\"sellerid\"])\n",
    "    \n",
    "    ff = open(\"marks.txt\", \"r\")\n",
    "    initial = ff.read()\n",
    "    ff.close()\n",
    "    \n",
    "    print(initial)\n",
    "    bulk = 2 #设置每批次容量\n",
    "    end = int(initial) + int(bulk)\n",
    "    print(end)\n",
    "    \n",
    "    df = df[int(initial):end]\n",
    "    print(df)\n",
    "    \n",
    "    ff = open(\"marks.txt\",\"w\")\n",
    "    ff.write(str(end))    \n",
    "    ff.close()  \n",
    "    \n",
    "    for row in df.itertuples(index=True, name='sellerid'):\n",
    "        sms_id = getattr(row, \"sellerid\")      \n",
    "        print(sms_id)\n",
    "        thread = client.fetchThreadInfo(str(sms_id))[str(sms_id)]\n",
    "        message = \"Hi, {}.\\nGlat to meet you!\\nI am interested in your items posted in marketplace, are they still available?\\nFrom: Jane 🙋‍♀️\".format(thread.name)\n",
    "        print(message)\n",
    "        client.send(Message(text = message), thread_id=sms_id, thread_type=ThreadType.USER)\n",
    "\n",
    "schedule.every().day.at(\"11:45\").do(job_that_executes_once)\n",
    "schedule.every().day.at(\"12:15\").do(job_that_executes_once)\n",
    "#schedule.every().day.at(\"13:30\").do(job)\n",
    "#schedule.every().day.at(\"13:31\").do(job)\n",
    "\n",
    "while True:\n",
    "    schedule.run_pending()\n",
    "    #time.sleep(1)\n",
    "    \n",
    "client.logout()"
   ]
  },
  {
   "cell_type": "code",
   "execution_count": null,
   "metadata": {},
   "outputs": [],
   "source": [
    "thread_id=[]\n",
    "with open('thread_id.txt','r') as f:\n",
    "\tfor line in f:\n",
    "\t\tthread_id.append(list(line.strip('\\n').split(',')))\n",
    "print(len(thread_id))"
   ]
  },
  {
   "cell_type": "code",
   "execution_count": null,
   "metadata": {},
   "outputs": [],
   "source": [
    "import sys\n",
    "thread_id=[]\n",
    "with open('list.txt','r') as f:\n",
    "\tfor line in f:\n",
    "\t\tthread_id.append(list(line.strip('\\n').split(',')))\n",
    "ff = open(\"marks.txt\", \"r\")\n",
    "initial = ff.read()\n",
    "ff.close()\n",
    "print(initial)\n",
    "bulk = 1\n",
    "end = int(initial) + int(bulk)\n",
    "print(thread_id[int(initial):end])\n",
    "ff = open(\"marks.txt\",\"w\")\n",
    "ff.write(str(end))\n",
    "f.close()\n",
    "ff.close()"
   ]
  },
  {
   "cell_type": "code",
   "execution_count": null,
   "metadata": {},
   "outputs": [],
   "source": [
    "from fbchat import Client\n",
    "from fbchat.models import *\n",
    "client = Client('taojing@csu.fullerton.edu', 'Lettopia@201905')\n",
    "\n",
    "sms_id = [100017406700050]\n",
    "#sms_id = [100017406700050,100009575388721, 100010279771004, 100021940891757, 100030951952389]\n",
    "for sms in sms_id:\n",
    "    print(type(sms))\n",
    "    thread = client.fetchThreadInfo(sms)[str(sms)]\n",
    "    message = \"Hi, {}.\\nGlat to meet you!\\nI am interested in your items posted in marketplace, are they still available?\\nFrom: Jane 🙋‍♀️\".format(thread.name)\n",
    "    print(message)\n",
    "    client.send(Message(text = message), thread_id=sms, thread_type=ThreadType.USER)\n",
    "\n",
    "client.logout()"
   ]
  },
  {
   "cell_type": "code",
   "execution_count": null,
   "metadata": {},
   "outputs": [],
   "source": [
    "import pandas as pd\n",
    "df = pd.read_csv('PortDenison_Western_Australia.txt', header = None, names = [\"sellerid\"])\n",
    "#len(df)\n",
    "df.drop_duplicates(subset=None, keep='first', inplace=False)\n",
    "len(df)\n",
    "\n",
    "df[df['sellerid'].isin([相应的值])]"
   ]
  },
  {
   "cell_type": "code",
   "execution_count": null,
   "metadata": {},
   "outputs": [],
   "source": [
    "for row in df.itertuples(index=True, name='sellerid'):\n",
    "    print(getattr(row, \"sellerid\"))"
   ]
  },
  {
   "cell_type": "code",
   "execution_count": null,
   "metadata": {},
   "outputs": [],
   "source": []
  }
 ],
 "metadata": {
  "kernelspec": {
   "display_name": "Python 3",
   "language": "python",
   "name": "python3"
  },
  "language_info": {
   "codemirror_mode": {
    "name": "ipython",
    "version": 3
   },
   "file_extension": ".py",
   "mimetype": "text/x-python",
   "name": "python",
   "nbconvert_exporter": "python",
   "pygments_lexer": "ipython3",
   "version": "3.6.8"
  }
 },
 "nbformat": 4,
 "nbformat_minor": 2
}
