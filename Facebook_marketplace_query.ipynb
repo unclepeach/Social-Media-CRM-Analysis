{
 "cells": [
  {
   "cell_type": "markdown",
   "metadata": {},
   "source": [
    "## Selenium控制一打开的google页面\n",
    "#### 1. C:\\Users\\UNclePeach>cd C:\\Program Files (x86)\\Google\\Chrome\\Application\n",
    "#### 2. C:\\Program Files (x86)\\Google\\Chrome\\Application>chrome.exe --remote-debugging-port=9222 --user-data-dir=\"C:\\selenum\\AutomationProfile\""
   ]
  },
  {
   "cell_type": "code",
   "execution_count": null,
   "metadata": {},
   "outputs": [],
   "source": [
    "from selenium import webdriver\n",
    "from selenium.webdriver.chrome.options import Options\n",
    "\n",
    "chrome_options = Options()\n",
    "chrome_options.add_experimental_option(\"debuggerAddress\", \"127.0.0.1:9222\")\n",
    "# driver就是当前浏览器窗口\n",
    "driver = webdriver.Chrome(options=chrome_options)\n",
    "\n",
    "driver.title"
   ]
  },
  {
   "cell_type": "code",
   "execution_count": null,
   "metadata": {},
   "outputs": [],
   "source": [
    "####df读取csv数据库发送marketplace问询信息后更新csv\n",
    "import traceback\n",
    "import pandas as pd\n",
    "import time\n",
    "\n",
    "driver.set_page_load_timeout(30)\n",
    "\n",
    "items = pd.read_csv(\"item.csv\")\n",
    "for i in range(0,len(items)):\n",
    "    if items.iloc[i][\"status\"] == \"no contact\":\n",
    "        driver.get(items.iloc[i][\"url\"])\n",
    "        try:\n",
    "            driver.find_element_by_xpath('//span[contains(text(), \"This Item Isn\\'t Available Anymore\")]')\n",
    "            items.iloc[j,2] = \"item unavailable\"\n",
    "            print(i, \"This Item Isn't Available Anymore!\")\n",
    "        except:\n",
    "            try:\n",
    "                message = driver.find_element_by_xpath(\"//input[@placeholder = 'Send a private message...']\")\n",
    "                message.send_keys(u'\\ue009' + \"a\")\n",
    "                ###针对手机显示屏维修业务发出询问\n",
    "                message.send_keys(\"Hello, I'm interested in your item. Do you repair iPhoneX screen?\")\n",
    "                send = driver.find_element_by_xpath(\"//div[contains(text(), 'Send')]\")\n",
    "                send = send.find_element_by_xpath(\"..//..\")\n",
    "                send = send.find_element_by_xpath(\"..\")\n",
    "                #send.click()\n",
    "                time.sleep(10)\n",
    "                print(i,str(items.iloc[i][\"seller_id\"]) + \"@send\")\n",
    "                #print(i,items.iloc[i][\"url\"])\n",
    "                items.iloc[i,2] = \"sent\"\n",
    "                #print(i,items.iloc[i][\"seller_id\"],items.iloc[i][\"status\"])\n",
    "                for j in range(i+1,len(items)):\n",
    "                    if items.iloc[j][\"seller_id\"] == items.iloc[i][\"seller_id\"]:\n",
    "                #print(j,items.iloc[j][\"seller_id\"],items.iloc[j][\"status\"])\n",
    "                       items.iloc[j,2] = \"already sent\"\n",
    "                #print(j,items.iloc[j,0],items.iloc[j,2])\n",
    "                    else:\n",
    "                        continue\n",
    "                #拉长休眠时间，循环发送消息，一天以30条为max      \n",
    "                #time.sleep(2860)\n",
    "                #driver.refresh()\n",
    "                #time.sleep(10)\n",
    "            except:\n",
    "                f=open(\"log.txt\",'a')  \n",
    "                traceback.print_exc(file=f)  \n",
    "                f.flush()  \n",
    "                f.close()\n",
    "                print(i, str(items.iloc[i][\"seller_id\"]) + \"@error\")\n",
    "            continue"
   ]
  },
  {
   "cell_type": "code",
   "execution_count": null,
   "metadata": {},
   "outputs": [],
   "source": [
    "items.to_csv('item_n.csv',index=False)"
   ]
  },
  {
   "cell_type": "code",
   "execution_count": null,
   "metadata": {},
   "outputs": [],
   "source": [
    "####检查信息发送状态准确性\n",
    "items = pd.read_csv(\"item_n.csv\")\n",
    "for i in range(0,len(items)):\n",
    "    if items.iloc[i][\"status\"] == \"sent\":\n",
    "        driver.get(items.iloc[i][\"url\"])\n",
    "        time.sleep(15)\n",
    "        try:\n",
    "            sent = driver.find_element_by_xpath('//button[contains(text(), \"Message Again\")]')        \n",
    "            print(i,str(items.iloc[i][\"seller_id\"]) + \"@correct\")\n",
    "        except:\n",
    "            f=open(\"log.txt\",'a')  \n",
    "            traceback.print_exc(file=f)  \n",
    "            f.flush()  \n",
    "            f.close()\n",
    "            if items.iloc[i][\"status\"] != \"item unavailable\":\n",
    "                print(i, str(items.iloc[i][\"url\"]) + \"@please check again\")\n",
    "        continue"
   ]
  },
  {
   "cell_type": "code",
   "execution_count": null,
   "metadata": {},
   "outputs": [],
   "source": [
    "driver.quit()"
   ]
  },
  {
   "cell_type": "code",
   "execution_count": null,
   "metadata": {},
   "outputs": [],
   "source": [
    "import pandas as pd\n",
    "items = pd.read_csv(r\"C:\\Users\\UNclePeach\\Downloads\\item.csv\", encoding = \"ISO-8859-1\")"
   ]
  },
  {
   "cell_type": "code",
   "execution_count": null,
   "metadata": {},
   "outputs": [],
   "source": []
  }
 ],
 "metadata": {
  "kernelspec": {
   "display_name": "Python 3",
   "language": "python",
   "name": "python3"
  },
  "language_info": {
   "codemirror_mode": {
    "name": "ipython",
    "version": 3
   },
   "file_extension": ".py",
   "mimetype": "text/x-python",
   "name": "python",
   "nbconvert_exporter": "python",
   "pygments_lexer": "ipython3",
   "version": "3.6.8"
  }
 },
 "nbformat": 4,
 "nbformat_minor": 2
}
