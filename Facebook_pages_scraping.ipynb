{
 "cells": [
  {
   "cell_type": "markdown",
   "metadata": {},
   "source": [
    "### 2019 Facebook 平台商机大数据挖掘研究记录"
   ]
  },
  {
   "cell_type": "markdown",
   "metadata": {},
   "source": [
    "#### 查询地名坐标 GEOPY"
   ]
  },
  {
   "cell_type": "code",
   "execution_count": null,
   "metadata": {},
   "outputs": [],
   "source": [
    "from geopy.geocoders import Nominatim\n",
    "geolocator = Nominatim()\n",
    "location = geolocator.geocode(\"Sydney, australia\")\n",
    "print(location.address)\n",
    "print(str(location.latitude)+\", \"+str(location.longitude))\n",
    "point = str(location.latitude)+\",\"+str(location.longitude)"
   ]
  },
  {
   "cell_type": "markdown",
   "metadata": {},
   "source": [
    "#### 根据坐标查询商户信息 FBGRAPH API"
   ]
  },
  {
   "cell_type": "code",
   "execution_count": null,
   "metadata": {},
   "outputs": [],
   "source": [
    "import facebook\n",
    "token = \"EAAFTFQ68bZAsBAAx4JOTwQxWOC7oHio5ep7ZAa6MhwA3ys9ZBL0Nd95woZCC28rREV1phfE9qCHirALQR8TlmNmGnNLyZBfiLUjngrFwe8uhGMIfjD9suSWtVC6lhDFpUcTurfZAgYq5ZBjjgXWqhK3slUn9V7r8RJgRZByO0mcHEsHOyPjt3TKMZAV01Elfph9ApDSS8Bs6nKgZDZD\"\n",
    "query = \"phonerepair\"\n",
    "graph = facebook.GraphAPI(access_token=token)\n",
    "\n",
    "places = graph.search(type='place',\n",
    "                      center='-33.32167,115.63692',\n",
    "                      q=query,\n",
    "                      fields='name,location')\n",
    "for place in places['data']:\n",
    "    print('%s %s' % (place['name'].encode(),place['location'].get('country')))"
   ]
  },
  {
   "cell_type": "markdown",
   "metadata": {},
   "source": [
    "### STEP1 - 模拟FB登录及搜索功能 --> 输出全部搜索结果 （变参：keywords）"
   ]
  },
  {
   "cell_type": "code",
   "execution_count": null,
   "metadata": {},
   "outputs": [],
   "source": [
    "from selenium import webdriver \n",
    "#预备延时已备网络操作时间\n",
    "from time import sleep\n",
    "target = \"pages\"\n",
    "keywords = \"3c repair\"\n",
    "\n",
    "#清理历史文件\n",
    "import os\n",
    "os.remove(\"page_email.csv\")\n",
    "print(\"Files Removed!\")\n",
    "\n",
    "#关闭chrome弹窗通知\n",
    "options = webdriver.ChromeOptions()\n",
    "prefs = {\n",
    "    'profile.default_content_setting_values' :\n",
    "        {\n",
    "        'notifications' : 2\n",
    "         }\n",
    "}\n",
    "options.add_experimental_option('prefs',prefs)\n",
    "options.add_argument(\"disable-infobars\") # 关闭'chrome正受到自动测试软件的控制'提示\n",
    "options.add_argument('--hide-scrollbars')  #隐藏滚动条, 应对一些特殊页面\n",
    "options.add_argument('blink-settings=imagesEnabled=false')  #不加载图片, 提升速度\n",
    "options.add_argument('--headless') #浏览器不提供可视化页面. linux下如果系统不支持可视化不加这条会启动失败\n",
    "\n",
    "driver = webdriver.Chrome(r\"C:\\Users\\UNclePeach\\AnacondaProjects\\Social Media CRM Analysis\\chromedriver.exe\", options = options) \n",
    "driver.get('https://www.facebook.com/')\n",
    "  \n",
    "username_box = driver.find_element_by_id('email') \n",
    "username_box.send_keys(\"taojing@csu.fullerton.edu\") \n",
    "\n",
    "password_box = driver.find_element_by_id('pass') \n",
    "password_box.send_keys(\"Lettopia@201905\") \n",
    "\n",
    "login_box = driver.find_element_by_id('loginbutton') \n",
    "login_box.click() \n",
    "\n",
    "driver.get(\"https://www.facebook.com/search/\"+target+\"/?q=\"+keywords)\n",
    "# add code to scrape data of interest here\n",
    "\n",
    "#If you want to scrool to a page with infinite loading, like social network ones, facebook etc. \n",
    "while driver.find_element_by_tag_name('div'):\n",
    "    driver.execute_script(\"window.scrollTo(0, document.body.scrollHeight);\")\n",
    "    Divs=driver.find_element_by_tag_name('div').text\n",
    "    if 'End of Results' in Divs:\n",
    "        print (\"end of results\")\n",
    "        break\n",
    "    else:\n",
    "        continue     "
   ]
  },
  {
   "cell_type": "markdown",
   "metadata": {},
   "source": [
    "### STEP2.1.1 - 导出所有关联Keywords Pages的ID及邮箱"
   ]
  },
  {
   "cell_type": "code",
   "execution_count": null,
   "metadata": {
    "scrolled": true
   },
   "outputs": [],
   "source": [
    "from urllib.request import urlopen\n",
    "from bs4 import BeautifulSoup\n",
    "import traceback\n",
    "\n",
    "#count = 0\n",
    "page_likes = driver.find_elements_by_class_name('PageLikeButton')\n",
    "ff = open('csvfile.csv','a')\n",
    "for like in page_likes:\n",
    "    url=\"https://www.facebook.com/\"+like.get_attribute(\"data-profileid\")+\"/about/\"\n",
    "    #print(str(count)+\"-message to: \"+like.get_attribute(\"data-profileid\"))\n",
    "    try:\n",
    "        page = urlopen(url)\n",
    "        soup = BeautifulSoup(page,'html.parser')       \n",
    "        #print(soup.find_all(\"a\"))\n",
    "        for link in soup.find_all(\"a\"):\n",
    "        #print(link.get('href'))\n",
    "            linkstring=link.get(\"href\")\n",
    "            if \"mailto:\" in linkstring:\n",
    "                #count = count + 1\n",
    "                #number = str(count)\n",
    "                #print(number+\"-email to: \"+linkstring[7:len(linkstring)])  \n",
    "                mailto = linkstring[7:len(linkstring)]\n",
    "                ff.write(mailto) #Give your csv text here.\n",
    "                ff.write('\\n')## Python will convert \\n to os.linesep\n",
    "                \n",
    "    except:\n",
    "        f=open(\"log.txt\",'a')  \n",
    "        traceback.print_exc(file=f)  \n",
    "        f.flush()  \n",
    "        f.close()\n",
    "    continue\n",
    "    \n",
    "#关闭所有对象    \n",
    "ff.close()\n",
    "driver.quit()\n",
    "print(\"Page emails export done!\")"
   ]
  },
  {
   "cell_type": "markdown",
   "metadata": {},
   "source": [
    "### STEP2.1.2 - 清理csv文件重复行（重复email地址）"
   ]
  },
  {
   "cell_type": "code",
   "execution_count": null,
   "metadata": {},
   "outputs": [],
   "source": [
    "with open('csvfile.csv','r') as in_file, open('page_email.csv','w') as out_file:\n",
    "    seen = set() # set for fast O(1) amortized lookup\n",
    "    for line in in_file:\n",
    "        if line in seen: continue # skip duplicate\n",
    "\n",
    "        seen.add(line)\n",
    "        out_file.write(line)\n",
    "\n",
    "os.remove(\"csvfile.csv\")        \n",
    "print(\"Page email clean up!\")"
   ]
  },
  {
   "cell_type": "markdown",
   "metadata": {},
   "source": [
    "### STEP2.2 - 导出所有关联Keywords Pages的商家名称，地址及电话"
   ]
  },
  {
   "cell_type": "code",
   "execution_count": null,
   "metadata": {},
   "outputs": [],
   "source": [
    "from urllib.request import urlopen\n",
    "from bs4 import BeautifulSoup\n",
    "import re\n",
    "import traceback\n",
    "\n",
    "count = 0\n",
    "page_likes = driver.find_elements_by_class_name('PageLikeButton')\n",
    "for like in page_likes:\n",
    "    url=\"https://www.facebook.com/\"+like.get_attribute(\"data-profileid\")+\"/about/\"\n",
    "    count = count + 1\n",
    "    print(str(count)+\" \"+url) \n",
    "    page = urlopen(url)\n",
    "    soup = BeautifulSoup(page,'html.parser')\n",
    "    try:\n",
    "        title = soup.title.string\n",
    "        length = len(title)\n",
    "        end = length - 19\n",
    "        #截取店铺名\n",
    "        print(title[0:end])\n",
    "        #address block\n",
    "        spans = soup.find_all('span', {'class':\"_2iem\"})\n",
    "        #call block\n",
    "        calls = soup.find_all('div', {\"class\":\"_50f4\"})\n",
    "        if spans[0] in spans:\n",
    "            print(\"Addr: \" + str(spans[0].string)+\", \"+str(spans[1].string))\n",
    "        if calls[0] in calls:    \n",
    "            print(calls[0].string)\n",
    "    except:\n",
    "        f=open(\"log.txt\",'a')  \n",
    "        traceback.print_exc(file=f)  \n",
    "        f.flush()  \n",
    "        f.close()\n",
    "    continue"
   ]
  },
  {
   "cell_type": "markdown",
   "metadata": {},
   "source": [
    "### STEP3.1 - 导出所有关联Keywords Marketplace的Seller ID"
   ]
  },
  {
   "cell_type": "code",
   "execution_count": null,
   "metadata": {},
   "outputs": [],
   "source": [
    "###改用list img.click操作收集数据"
   ]
  },
  {
   "cell_type": "markdown",
   "metadata": {},
   "source": [
    "### Final - 重要操作，关闭对象"
   ]
  },
  {
   "cell_type": "code",
   "execution_count": null,
   "metadata": {},
   "outputs": [],
   "source": [
    "#完成所有操作，关闭对象\n",
    "driver.quit()"
   ]
  },
  {
   "cell_type": "code",
   "execution_count": null,
   "metadata": {},
   "outputs": [],
   "source": [
    "\n"
   ]
  }
 ],
 "metadata": {
  "kernelspec": {
   "display_name": "Python 3",
   "language": "python",
   "name": "python3"
  },
  "language_info": {
   "codemirror_mode": {
    "name": "ipython",
    "version": 3
   },
   "file_extension": ".py",
   "mimetype": "text/x-python",
   "name": "python",
   "nbconvert_exporter": "python",
   "pygments_lexer": "ipython3",
   "version": "3.6.8"
  }
 },
 "nbformat": 4,
 "nbformat_minor": 2
}
